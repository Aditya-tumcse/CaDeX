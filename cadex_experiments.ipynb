{
 "cells": [
  {
   "cell_type": "code",
   "execution_count": 1,
   "metadata": {},
   "outputs": [],
   "source": [
    "import numpy as np\n",
    "import os"
   ]
  },
  {
   "cell_type": "markdown",
   "metadata": {},
   "source": [
    "Convert D-FAUST dataset into .ply file"
   ]
  },
  {
   "cell_type": "code",
   "execution_count": 2,
   "metadata": {},
   "outputs": [
    {
     "data": {
      "text/plain": [
       "True"
      ]
     },
     "execution_count": 2,
     "metadata": {},
     "output_type": "execute_result"
    }
   ],
   "source": [
    "file_path = \"/usr/stud/srinivaa/code/CaDeX/resource/data/Humans/D-FAUST/50002_hips/pcl_seq/00000003.npz\"\n",
    "data = np.load(file_path)\n",
    "pcd = o3d.geometry.PointCloud()\n",
    "pcd.points = o3d.utility.Vector3dVector(data['points'])\n",
    "o3d.io.write_point_cloud(\"data_3.ply\", pcd)"
   ]
  },
  {
   "cell_type": "markdown",
   "metadata": {},
   "source": [
    "Get the attributes of pcl_seq"
   ]
  },
  {
   "cell_type": "code",
   "execution_count": 3,
   "metadata": {},
   "outputs": [
    {
     "name": "stdout",
     "output_type": "stream",
     "text": [
      "points\n",
      "loc\n",
      "scale\n"
     ]
    }
   ],
   "source": [
    "for i in data.files:\n",
    "    print(i)"
   ]
  },
  {
   "cell_type": "markdown",
   "metadata": {},
   "source": [
    "Get the attributes of points_seq"
   ]
  },
  {
   "cell_type": "code",
   "execution_count": 4,
   "metadata": {},
   "outputs": [
    {
     "name": "stdout",
     "output_type": "stream",
     "text": [
      "points\n",
      "occupancies\n",
      "loc\n",
      "scale\n"
     ]
    }
   ],
   "source": [
    "points_seq = np.load(\"/usr/stud/srinivaa/code/CaDeX/resource/data/Humans/D-FAUST/50002_chicken_wings/points_seq/00000000.npz\")\n",
    "for i in points_seq.files:\n",
    "    print(i)"
   ]
  },
  {
   "cell_type": "markdown",
   "metadata": {},
   "source": [
    "Check the size of total dataset"
   ]
  },
  {
   "cell_type": "code",
   "execution_count": 34,
   "metadata": {},
   "outputs": [],
   "source": [
    "path, dirs, files = next(os.walk(\"/usr/stud/srinivaa/code/CaDeX/resource/data/Humans/D-FAUST\"))\n",
    "total_file_size = 0\n",
    "\n",
    "for i in range(len(dirs)): \n",
    "    if(dirs[i] != '50004_chicken_wings' and dirs[i] != '50020_hips' and dirs[i] != '50025_shake_arms' and dirs[i] != '50020_running_on_spot' and dirs[i] != '50007_light_hopping_loose'):\n",
    "        path_i,dirs_i,files_i = next(os.walk(os.path.join(path,dirs[i],'points_seq')))\n",
    "        total_file_size += len(files_i)"
   ]
  },
  {
   "cell_type": "code",
   "execution_count": 35,
   "metadata": {},
   "outputs": [
    {
     "data": {
      "text/plain": [
       "39920"
      ]
     },
     "execution_count": 35,
     "metadata": {},
     "output_type": "execute_result"
    }
   ],
   "source": [
    "total_file_size"
   ]
  },
  {
   "cell_type": "code",
   "execution_count": 32,
   "metadata": {},
   "outputs": [],
   "source": [
    "path, dirs, files = next(os.walk(\"/usr/stud/srinivaa/code/CaDeX/resource/data/Humans/D-FAUST\"))\n",
    "total_file_size = 0\n",
    "\n",
    "for i in range(len(dirs)): \n",
    "    if(dirs[i] != '50002_light_hopping_loose' and dirs[i] != '50004_punching' and dirs[i] != '50007_shake_shoulders' and dirs[i] != '50009_chicken_wings' and dirs[i] != '50020_chicken_wings' and dirs[i] != '50022_light_hopping_loose' and dirs[i] != '50025_light_hopping_loose' and dirs[i] != '50026_shake_arms' and dirs[i] != '50027_shake_shoulders' and dirs[i] != '50004_chicken_wings' and dirs[i] != '50020_hips' and dirs[i] != '50025_shake_arms' and dirs[i] != '50020_running_on_spot' and dirs[i] != '50007_light_hopping_loose'):\n",
    "        path_i,dirs_i,files_i = next(os.walk(os.path.join(path,dirs[i],'points_seq')))\n",
    "        total_file_size += len(files_i)"
   ]
  },
  {
   "cell_type": "code",
   "execution_count": 33,
   "metadata": {},
   "outputs": [
    {
     "data": {
      "text/plain": [
       "37867"
      ]
     },
     "execution_count": 33,
     "metadata": {},
     "output_type": "execute_result"
    }
   ],
   "source": [
    "total_file_size"
   ]
  },
  {
   "cell_type": "markdown",
   "metadata": {},
   "source": [
    "## Custom dataset of CaDeX"
   ]
  },
  {
   "cell_type": "code",
   "execution_count": 2,
   "metadata": {},
   "outputs": [],
   "source": [
    "import dataset.oflow_dataset as oflow_dataset\n",
    "from torch.utils import data\n",
    "from torch.utils.data import DataLoader"
   ]
  },
  {
   "cell_type": "markdown",
   "metadata": {},
   "source": [
    "Write a class for custom dataset "
   ]
  },
  {
   "cell_type": "code",
   "execution_count": 3,
   "metadata": {},
   "outputs": [],
   "source": [
    "class HumansDataset(data.Dataset):\n",
    "    def __init__(\n",
    "        self,\n",
    "        dataset_folder,\n",
    "        fields,\n",
    "        split=None,\n",
    "        categories=None,\n",
    "        no_except=True,\n",
    "        transform=None,\n",
    "        length_sequence=17,\n",
    "        n_files_per_sequence=-1,\n",
    "        offset_sequence=0,\n",
    "        ex_folder_name=\"pcl_seq\",\n",
    "        **kwargs\n",
    "    ):\n",
    "        # Attributes\n",
    "        self.dataset_folder = dataset_folder\n",
    "        self.fields = fields\n",
    "        self.no_except = no_except\n",
    "        self.transform = transform\n",
    "        self.length_sequence = length_sequence\n",
    "        self.n_files_per_sequence = n_files_per_sequence\n",
    "        self.offset_sequence = offset_sequence\n",
    "        self.ex_folder_name = ex_folder_name\n",
    "       \n",
    "        # Read metadata file\n",
    "        metadata_file = os.path.join(dataset_folder, \"metadata.yaml\")\n",
    "\n",
    "        \n",
    "        self.metadata = {c: {\"id\": c, \"name\": \"n/a\"} for c in categories}\n",
    "\n",
    "        # Set index\n",
    "        for c_idx, c in enumerate(categories):\n",
    "            self.metadata[c][\"idx\"] = c_idx #only one category: D-FAUST. contains single ID only\n",
    "\n",
    "        # Get all models\n",
    "        self.models = []\n",
    "        for c_idx, c in enumerate(categories):\n",
    "            subpath = os.path.join(dataset_folder, c) #subpath: /usr/stud/srinivaa/code/new_CaDeX/CaDeX/resource/data/Humans/D-FAUST\n",
    "           \n",
    "            if split is not None and os.path.exists(os.path.join(subpath, split + \".lst\")):\n",
    "                split_file = os.path.join(subpath, split + \".lst\") # for train mode: /usr/stud/srinivaa/code/new_CaDeX/CaDeX/resource/data/Humans/D-FAUST/train.lst\n",
    "                with open(split_file, \"r\") as f:\n",
    "                    models_c = f.read().split(\"\\n\") # All files in train.lst for training mode\n",
    "           \n",
    "            models_c = list(filter(lambda x: len(x) > 0, models_c))\n",
    "            models_len = self.get_models_seq_len(subpath, models_c) # gives the total number .npz files in each model\n",
    "            models_c, start_idx = self.subdivide_into_sequences(models_c, models_len)\n",
    "            self.models += [\n",
    "                {\"category\": c, \"model\": m, \"start_idx\": start_idx[i]}\n",
    "                for i, m in enumerate(models_c)\n",
    "            ]\n",
    "        \n",
    "       \n",
    "\n",
    "    def __len__(self):\n",
    "       return len(self.models)\n",
    "    \n",
    "    \n",
    "    def __getitem__(self,idx):\n",
    "        category = self.models[idx][\"category\"]\n",
    "        model = self.models[idx][\"model\"]\n",
    "        start_idx = self.models[idx][\"start_idx\"]\n",
    "        c_idx = self.metadata[category][\"idx\"]\n",
    "\n",
    "        model_path = os.path.join(self.dataset_folder, category, model)\n",
    "\n",
    "        data = {}\n",
    "\n",
    "        \n",
    "        for field_name, field in self.fields.items():\n",
    "            field_data = field.load(model_path, idx, c_idx, start_idx)\n",
    "                \n",
    "\n",
    "            if isinstance(field_data, dict):\n",
    "                for k, v in field_data.items():\n",
    "                    if k is None:\n",
    "                        data[field_name] = v\n",
    "                    else:\n",
    "                        data[\"%s.%s\" % (field_name, k)] = v\n",
    "            else:\n",
    "                data[field_name] = field_data\n",
    "           \n",
    "\n",
    "        if self.transform is not None:\n",
    "            data = self.transform(data)\n",
    "\n",
    "        return data\n",
    "\n",
    "    def get_models_seq_len(self, subpath, models):\n",
    "        \"\"\"Returns the sequence length of a specific model.\n",
    "\n",
    "        This is a little \"hacky\" as we assume the existence of the folder\n",
    "        self.ex_folder_name. However, in our case this is always given.\n",
    "\n",
    "        Args:\n",
    "            subpath (str): subpath of model category\n",
    "            models (list): list of model names\n",
    "        \"\"\"\n",
    "        ex_folder_name = self.ex_folder_name\n",
    "        models_seq_len = []\n",
    "        for m in models:\n",
    "            _sublist = [\n",
    "                f for f in os.listdir(os.path.join(subpath, m, ex_folder_name)) if \"_\" not in f\n",
    "            ]\n",
    "            models_seq_len.append(len(_sublist))\n",
    "        # models_seq_len = [len(os.listdir(os.path.join(subpath, m, ex_folder_name))) for m in models]\n",
    "        return models_seq_len\n",
    "\n",
    "    def subdivide_into_sequences(self, models, models_len):\n",
    "        \"\"\"Subdivides model sequence into smaller sequences.\n",
    "\n",
    "        Args:\n",
    "            models (list): list of model names\n",
    "            models_len (list): list of lengths of model sequences\n",
    "        \"\"\"\n",
    "        length_sequence = self.length_sequence\n",
    "        n_files_per_sequence = self.n_files_per_sequence\n",
    "        offset_sequence = self.offset_sequence\n",
    "\n",
    "        # Remove files before offset\n",
    "        models_len = [l - offset_sequence for l in models_len]\n",
    "\n",
    "        # Reduce to maximum number of files that should be considered\n",
    "        if n_files_per_sequence > 0:\n",
    "            models_len = [min(n_files_per_sequence, l) for l in models_len]\n",
    "\n",
    "        models_out = []\n",
    "        start_idx = []\n",
    "        for idx, model in enumerate(models):\n",
    "            for n in range(0, models_len[idx] - length_sequence + 1):\n",
    "                models_out.append(model)\n",
    "                start_idx.append(n + offset_sequence)\n",
    "\n",
    "        return models_out, start_idx   \n",
    "    "
   ]
  },
  {
   "cell_type": "code",
   "execution_count": 4,
   "metadata": {},
   "outputs": [],
   "source": [
    "def get_transforms():\n",
    "    \"\"\"Returns transform objects.\n",
    "\n",
    "    Args:\n",
    "        cfg (yaml config): yaml config object\n",
    "    \"\"\"\n",
    "    n_pcl = 100\n",
    "    n_pt = 512\n",
    "    n_pt_eval = 10000\n",
    "\n",
    "    transf_pt = oflow_dataset.SubsamplePoints(n_pt)\n",
    "    transf_pt_val = oflow_dataset.SubsamplePointsSeq(n_pt_eval, random=False)\n",
    "    transf_pcl_val = oflow_dataset.SubsamplePointcloudSeq(n_pt_eval, random=False)\n",
    "    transf_pcl = oflow_dataset.SubsamplePointcloudSeq(n_pcl, connected_samples=True)\n",
    "\n",
    "    return transf_pt, transf_pt_val, transf_pcl, transf_pcl_val"
   ]
  },
  {
   "cell_type": "code",
   "execution_count": 18,
   "metadata": {},
   "outputs": [],
   "source": [
    "def get_data_fields(mode):\n",
    "    \"\"\"Returns data fields.\n",
    "\n",
    "    Args:\n",
    "        mode (str): mode (train|val|test)\n",
    "        cfg (yaml config): yaml config object\n",
    "    \"\"\"\n",
    "    fields = {}\n",
    "    seq_len_train = 17\n",
    "   \n",
    "    seq_len_val = seq_len_train\n",
    "    p_folder = \"points_seq\" # points_seq: contains information regarding the points and their corresponding occupancy values\n",
    "    pcl_folder = \"pcl_seq\" #pcl_seq : contains information regarding the points, scale and loc\n",
    "    mesh_folder = \"mesh_seq\" #mesh_seq: non-existent. Utilize this to have a file containing points and faces for each model.\n",
    "    generate_interpolate = False #False\n",
    "    unpackbits = True # True\n",
    "    \n",
    "    training_all = False\n",
    "    \n",
    "    n_training_frames = 8\n",
    "\n",
    "    # Transformation\n",
    "    transf_pt, transf_pt_val, transf_pcl, transf_pcl_val = get_transforms()\n",
    "\n",
    "    # Fields\n",
    "    pts_iou_field = oflow_dataset.PointsSubseqField\n",
    "    pts_corr_field = oflow_dataset.PointCloudSubseqField\n",
    "\n",
    "    # MeshSubseqField can be used to load mesh fields\n",
    "\n",
    "  \n",
    "    not_choose_last = False\n",
    "    training_multi_files = False\n",
    "    \n",
    "    loss_recon = \"true\"\n",
    "    loss_corr = \"true\"\n",
    "\n",
    "    if mode == \"train\":\n",
    "        if loss_recon:\n",
    "            if training_all:\n",
    "                fields[\"points\"] = pts_iou_field(\n",
    "                    p_folder,\n",
    "                    transform=transf_pt,\n",
    "                    all_steps=True,\n",
    "                    seq_len=seq_len_train,\n",
    "                    unpackbits=unpackbits,\n",
    "                    use_multi_files=training_multi_files,\n",
    "                )\n",
    "            else:\n",
    "                fields[\"points\"] = pts_iou_field(\n",
    "                    p_folder,\n",
    "                    sample_nframes=n_training_frames,\n",
    "                    transform=transf_pt,\n",
    "                    seq_len=seq_len_train,\n",
    "                    fixed_time_step=0,\n",
    "                    unpackbits=unpackbits,\n",
    "                    use_multi_files=training_multi_files,\n",
    "                )\n",
    "            fields[\"points_t\"] = pts_iou_field(\n",
    "                p_folder,\n",
    "                transform=transf_pt,\n",
    "                seq_len=seq_len_train,\n",
    "                unpackbits=unpackbits,\n",
    "                not_choose_last=not_choose_last,\n",
    "                use_multi_files=training_multi_files,\n",
    "            )\n",
    "\n",
    "\n",
    "            fields[\"mesh\"] = oflow_dataset.MeshField(\n",
    "            mesh_folder, seq_len=seq_len_val)\n",
    "\n",
    "    # only training can be boost by multi-files\n",
    "    # modify here, if not train, val should also load the same as the test\n",
    "    else:\n",
    "        fields[\"points\"] = pts_iou_field(\n",
    "            p_folder,\n",
    "            transform=transf_pt_val,\n",
    "            all_steps=True,\n",
    "            seq_len=seq_len_val,\n",
    "            unpackbits=unpackbits,\n",
    "        )\n",
    "        fields[\n",
    "            \"points_mesh\"\n",
    "        ] = pts_corr_field(  # ? this if for correspondence? Checked, this is for chamfer distance, make sure that because here we use tranforms, teh pts in config file must be 100000\n",
    "            pcl_folder, transform=transf_pcl_val, seq_len=seq_len_val\n",
    "        )\n",
    "    # Connectivity Loss:\n",
    "    if loss_corr:\n",
    "        # fields[\"pointcloud\"] = pts_corr_field(\n",
    "        #     pcl_folder,\n",
    "        #     transform=transf_pcl,\n",
    "        #     seq_len=seq_len_train,\n",
    "        #     use_multi_files=training_multi_files,\n",
    "        # )\n",
    "        fields[\"pointcloud\"] = oflow_dataset.MeshField(\n",
    "            mesh_folder, seq_len=seq_len_val)\n",
    "    if mode == \"test\" and generate_interpolate:\n",
    "        fields[\"mesh\"] = oflow_dataset.MeshSubseqField(\n",
    "            mesh_folder, seq_len=seq_len_val, only_end_points=True\n",
    "        )\n",
    "    fields[\"oflow_idx\"] = oflow_dataset.IndexField()\n",
    "    return fields"
   ]
  },
  {
   "cell_type": "code",
   "execution_count": 19,
   "metadata": {},
   "outputs": [],
   "source": [
    "fields = get_data_fields(\"train\")"
   ]
  },
  {
   "cell_type": "code",
   "execution_count": 20,
   "metadata": {},
   "outputs": [],
   "source": [
    "dataset_folder = \"/usr/data/cvpr_shared/marvin/Data/CaDeX/data/Humans\"\n",
    "categories = [\"D-FAUST\"]"
   ]
  },
  {
   "cell_type": "markdown",
   "metadata": {},
   "source": [
    "Instantiate a custom dataset object"
   ]
  },
  {
   "cell_type": "code",
   "execution_count": 21,
   "metadata": {},
   "outputs": [],
   "source": [
    "dataset = HumansDataset(\n",
    "        dataset_folder,\n",
    "        fields,\n",
    "        split=\"train\",\n",
    "        categories=categories,\n",
    "        length_sequence=17,\n",
    "        n_files_per_sequence=-1,\n",
    "        offset_sequence=15,\n",
    "        ex_folder_name=\"mesh_seq_downsampled\",\n",
    "    )"
   ]
  },
  {
   "cell_type": "markdown",
   "metadata": {},
   "source": [
    "Test the dataloader"
   ]
  },
  {
   "cell_type": "code",
   "execution_count": 22,
   "metadata": {},
   "outputs": [],
   "source": [
    "dataloader_dict = {}\n",
    "dataloader_dict[\"train\"] = DataLoader(\n",
    "                dataset, # keys : points, points_t, mesh, pointcloud, oflow_idx, inputs\n",
    "                batch_size=12,\n",
    "                shuffle=True,\n",
    "                num_workers=2,\n",
    "                pin_memory=False, #set to true to ensure faster data transfer between CPU and GPU. Set it to false only if the data \n",
    "                #directly transferred into GPU and it is really small\n",
    "                drop_last=True,  # ! check this\n",
    "            )"
   ]
  },
  {
   "cell_type": "code",
   "execution_count": 23,
   "metadata": {},
   "outputs": [
    {
     "name": "stderr",
     "output_type": "stream",
     "text": [
      "/usr/stud/srinivaa/code/new_CaDeX/CaDeX/dataset/oflow_dataset/fields.py:716: VisibleDeprecationWarning: Creating an ndarray from ragged nested sequences (which is a list-or-tuple of lists-or-tuples-or ndarrays with different lengths or shapes) is deprecated. If you meant to do this, you must specify 'dtype=object' when creating the ndarray.\n",
      "  \"vertices\": np.array(mesh_vertices_seq),\n",
      "/usr/stud/srinivaa/code/new_CaDeX/CaDeX/dataset/oflow_dataset/fields.py:717: VisibleDeprecationWarning: Creating an ndarray from ragged nested sequences (which is a list-or-tuple of lists-or-tuples-or ndarrays with different lengths or shapes) is deprecated. If you meant to do this, you must specify 'dtype=object' when creating the ndarray.\n",
      "  \"triangles\": np.array(mesh_face_seq),\n"
     ]
    },
    {
     "data": {
      "text/plain": [
       "dict_keys(['points', 'points.occ', 'points.time', 'points_t', 'points_t.occ', 'points_t.time', 'mesh.vertices', 'mesh.triangles', 'mesh.time', 'pointcloud.vertices', 'pointcloud.triangles', 'pointcloud.time', 'oflow_idx'])"
      ]
     },
     "execution_count": 23,
     "metadata": {},
     "output_type": "execute_result"
    }
   ],
   "source": [
    "dataloader_dict[\"train\"].dataset[1].keys()"
   ]
  },
  {
   "cell_type": "code",
   "execution_count": 24,
   "metadata": {},
   "outputs": [
    {
     "name": "stderr",
     "output_type": "stream",
     "text": [
      "/usr/stud/srinivaa/code/new_CaDeX/CaDeX/dataset/oflow_dataset/fields.py:716: VisibleDeprecationWarning: Creating an ndarray from ragged nested sequences (which is a list-or-tuple of lists-or-tuples-or ndarrays with different lengths or shapes) is deprecated. If you meant to do this, you must specify 'dtype=object' when creating the ndarray.\n",
      "  \"vertices\": np.array(mesh_vertices_seq),\n",
      "/usr/stud/srinivaa/code/new_CaDeX/CaDeX/dataset/oflow_dataset/fields.py:717: VisibleDeprecationWarning: Creating an ndarray from ragged nested sequences (which is a list-or-tuple of lists-or-tuples-or ndarrays with different lengths or shapes) is deprecated. If you meant to do this, you must specify 'dtype=object' when creating the ndarray.\n",
      "  \"triangles\": np.array(mesh_face_seq),\n",
      "/usr/stud/srinivaa/code/new_CaDeX/CaDeX/dataset/oflow_dataset/fields.py:716: VisibleDeprecationWarning: Creating an ndarray from ragged nested sequences (which is a list-or-tuple of lists-or-tuples-or ndarrays with different lengths or shapes) is deprecated. If you meant to do this, you must specify 'dtype=object' when creating the ndarray.\n",
      "  \"vertices\": np.array(mesh_vertices_seq),\n",
      "/usr/stud/srinivaa/code/new_CaDeX/CaDeX/dataset/oflow_dataset/fields.py:717: VisibleDeprecationWarning: Creating an ndarray from ragged nested sequences (which is a list-or-tuple of lists-or-tuples-or ndarrays with different lengths or shapes) is deprecated. If you meant to do this, you must specify 'dtype=object' when creating the ndarray.\n",
      "  \"triangles\": np.array(mesh_face_seq),\n"
     ]
    },
    {
     "ename": "KeyboardInterrupt",
     "evalue": "",
     "output_type": "error",
     "traceback": [
      "\u001b[0;31m---------------------------------------------------------------------------\u001b[0m",
      "\u001b[0;31mKeyboardInterrupt\u001b[0m                         Traceback (most recent call last)",
      "\u001b[0;32m/tmp/ipykernel_3223817/1402184264.py\u001b[0m in \u001b[0;36m<module>\u001b[0;34m\u001b[0m\n\u001b[0;32m----> 1\u001b[0;31m \u001b[0;32mfor\u001b[0m \u001b[0mbatch\u001b[0m \u001b[0;32min\u001b[0m \u001b[0miter\u001b[0m\u001b[0;34m(\u001b[0m\u001b[0mdataloader_dict\u001b[0m\u001b[0;34m[\u001b[0m\u001b[0;34m\"train\"\u001b[0m\u001b[0;34m]\u001b[0m\u001b[0;34m)\u001b[0m\u001b[0;34m:\u001b[0m\u001b[0;34m\u001b[0m\u001b[0;34m\u001b[0m\u001b[0m\n\u001b[0m\u001b[1;32m      2\u001b[0m     \u001b[0mprint\u001b[0m\u001b[0;34m(\u001b[0m\u001b[0;34m\"Size of a batch:\"\u001b[0m\u001b[0;34m,\u001b[0m \u001b[0mbatch\u001b[0m\u001b[0;34m.\u001b[0m\u001b[0msize\u001b[0m\u001b[0;34m)\u001b[0m\u001b[0;34m\u001b[0m\u001b[0;34m\u001b[0m\u001b[0m\n",
      "\u001b[0;32m~/anaconda3/envs/cadex_1/lib/python3.7/site-packages/torch/utils/data/dataloader.py\u001b[0m in \u001b[0;36m__next__\u001b[0;34m(self)\u001b[0m\n\u001b[1;32m    528\u001b[0m             \u001b[0;32mif\u001b[0m \u001b[0mself\u001b[0m\u001b[0;34m.\u001b[0m\u001b[0m_sampler_iter\u001b[0m \u001b[0;32mis\u001b[0m \u001b[0;32mNone\u001b[0m\u001b[0;34m:\u001b[0m\u001b[0;34m\u001b[0m\u001b[0;34m\u001b[0m\u001b[0m\n\u001b[1;32m    529\u001b[0m                 \u001b[0mself\u001b[0m\u001b[0;34m.\u001b[0m\u001b[0m_reset\u001b[0m\u001b[0;34m(\u001b[0m\u001b[0;34m)\u001b[0m\u001b[0;34m\u001b[0m\u001b[0;34m\u001b[0m\u001b[0m\n\u001b[0;32m--> 530\u001b[0;31m             \u001b[0mdata\u001b[0m \u001b[0;34m=\u001b[0m \u001b[0mself\u001b[0m\u001b[0;34m.\u001b[0m\u001b[0m_next_data\u001b[0m\u001b[0;34m(\u001b[0m\u001b[0;34m)\u001b[0m\u001b[0;34m\u001b[0m\u001b[0;34m\u001b[0m\u001b[0m\n\u001b[0m\u001b[1;32m    531\u001b[0m             \u001b[0mself\u001b[0m\u001b[0;34m.\u001b[0m\u001b[0m_num_yielded\u001b[0m \u001b[0;34m+=\u001b[0m \u001b[0;36m1\u001b[0m\u001b[0;34m\u001b[0m\u001b[0;34m\u001b[0m\u001b[0m\n\u001b[1;32m    532\u001b[0m             \u001b[0;32mif\u001b[0m \u001b[0mself\u001b[0m\u001b[0;34m.\u001b[0m\u001b[0m_dataset_kind\u001b[0m \u001b[0;34m==\u001b[0m \u001b[0m_DatasetKind\u001b[0m\u001b[0;34m.\u001b[0m\u001b[0mIterable\u001b[0m \u001b[0;32mand\u001b[0m\u001b[0;31m \u001b[0m\u001b[0;31m\\\u001b[0m\u001b[0;34m\u001b[0m\u001b[0;34m\u001b[0m\u001b[0m\n",
      "\u001b[0;32m~/anaconda3/envs/cadex_1/lib/python3.7/site-packages/torch/utils/data/dataloader.py\u001b[0m in \u001b[0;36m_next_data\u001b[0;34m(self)\u001b[0m\n\u001b[1;32m   1205\u001b[0m \u001b[0;34m\u001b[0m\u001b[0m\n\u001b[1;32m   1206\u001b[0m             \u001b[0;32massert\u001b[0m \u001b[0;32mnot\u001b[0m \u001b[0mself\u001b[0m\u001b[0;34m.\u001b[0m\u001b[0m_shutdown\u001b[0m \u001b[0;32mand\u001b[0m \u001b[0mself\u001b[0m\u001b[0;34m.\u001b[0m\u001b[0m_tasks_outstanding\u001b[0m \u001b[0;34m>\u001b[0m \u001b[0;36m0\u001b[0m\u001b[0;34m\u001b[0m\u001b[0;34m\u001b[0m\u001b[0m\n\u001b[0;32m-> 1207\u001b[0;31m             \u001b[0midx\u001b[0m\u001b[0;34m,\u001b[0m \u001b[0mdata\u001b[0m \u001b[0;34m=\u001b[0m \u001b[0mself\u001b[0m\u001b[0;34m.\u001b[0m\u001b[0m_get_data\u001b[0m\u001b[0;34m(\u001b[0m\u001b[0;34m)\u001b[0m\u001b[0;34m\u001b[0m\u001b[0;34m\u001b[0m\u001b[0m\n\u001b[0m\u001b[1;32m   1208\u001b[0m             \u001b[0mself\u001b[0m\u001b[0;34m.\u001b[0m\u001b[0m_tasks_outstanding\u001b[0m \u001b[0;34m-=\u001b[0m \u001b[0;36m1\u001b[0m\u001b[0;34m\u001b[0m\u001b[0;34m\u001b[0m\u001b[0m\n\u001b[1;32m   1209\u001b[0m             \u001b[0;32mif\u001b[0m \u001b[0mself\u001b[0m\u001b[0;34m.\u001b[0m\u001b[0m_dataset_kind\u001b[0m \u001b[0;34m==\u001b[0m \u001b[0m_DatasetKind\u001b[0m\u001b[0;34m.\u001b[0m\u001b[0mIterable\u001b[0m\u001b[0;34m:\u001b[0m\u001b[0;34m\u001b[0m\u001b[0;34m\u001b[0m\u001b[0m\n",
      "\u001b[0;32m~/anaconda3/envs/cadex_1/lib/python3.7/site-packages/torch/utils/data/dataloader.py\u001b[0m in \u001b[0;36m_get_data\u001b[0;34m(self)\u001b[0m\n\u001b[1;32m   1171\u001b[0m         \u001b[0;32melse\u001b[0m\u001b[0;34m:\u001b[0m\u001b[0;34m\u001b[0m\u001b[0;34m\u001b[0m\u001b[0m\n\u001b[1;32m   1172\u001b[0m             \u001b[0;32mwhile\u001b[0m \u001b[0;32mTrue\u001b[0m\u001b[0;34m:\u001b[0m\u001b[0;34m\u001b[0m\u001b[0;34m\u001b[0m\u001b[0m\n\u001b[0;32m-> 1173\u001b[0;31m                 \u001b[0msuccess\u001b[0m\u001b[0;34m,\u001b[0m \u001b[0mdata\u001b[0m \u001b[0;34m=\u001b[0m \u001b[0mself\u001b[0m\u001b[0;34m.\u001b[0m\u001b[0m_try_get_data\u001b[0m\u001b[0;34m(\u001b[0m\u001b[0;34m)\u001b[0m\u001b[0;34m\u001b[0m\u001b[0;34m\u001b[0m\u001b[0m\n\u001b[0m\u001b[1;32m   1174\u001b[0m                 \u001b[0;32mif\u001b[0m \u001b[0msuccess\u001b[0m\u001b[0;34m:\u001b[0m\u001b[0;34m\u001b[0m\u001b[0;34m\u001b[0m\u001b[0m\n\u001b[1;32m   1175\u001b[0m                     \u001b[0;32mreturn\u001b[0m \u001b[0mdata\u001b[0m\u001b[0;34m\u001b[0m\u001b[0;34m\u001b[0m\u001b[0m\n",
      "\u001b[0;32m~/anaconda3/envs/cadex_1/lib/python3.7/site-packages/torch/utils/data/dataloader.py\u001b[0m in \u001b[0;36m_try_get_data\u001b[0;34m(self, timeout)\u001b[0m\n\u001b[1;32m   1009\u001b[0m         \u001b[0;31m#   (bool: whether successfully get data, any: data if successful else None)\u001b[0m\u001b[0;34m\u001b[0m\u001b[0;34m\u001b[0m\u001b[0;34m\u001b[0m\u001b[0m\n\u001b[1;32m   1010\u001b[0m         \u001b[0;32mtry\u001b[0m\u001b[0;34m:\u001b[0m\u001b[0;34m\u001b[0m\u001b[0;34m\u001b[0m\u001b[0m\n\u001b[0;32m-> 1011\u001b[0;31m             \u001b[0mdata\u001b[0m \u001b[0;34m=\u001b[0m \u001b[0mself\u001b[0m\u001b[0;34m.\u001b[0m\u001b[0m_data_queue\u001b[0m\u001b[0;34m.\u001b[0m\u001b[0mget\u001b[0m\u001b[0;34m(\u001b[0m\u001b[0mtimeout\u001b[0m\u001b[0;34m=\u001b[0m\u001b[0mtimeout\u001b[0m\u001b[0;34m)\u001b[0m\u001b[0;34m\u001b[0m\u001b[0;34m\u001b[0m\u001b[0m\n\u001b[0m\u001b[1;32m   1012\u001b[0m             \u001b[0;32mreturn\u001b[0m \u001b[0;34m(\u001b[0m\u001b[0;32mTrue\u001b[0m\u001b[0;34m,\u001b[0m \u001b[0mdata\u001b[0m\u001b[0;34m)\u001b[0m\u001b[0;34m\u001b[0m\u001b[0;34m\u001b[0m\u001b[0m\n\u001b[1;32m   1013\u001b[0m         \u001b[0;32mexcept\u001b[0m \u001b[0mException\u001b[0m \u001b[0;32mas\u001b[0m \u001b[0me\u001b[0m\u001b[0;34m:\u001b[0m\u001b[0;34m\u001b[0m\u001b[0;34m\u001b[0m\u001b[0m\n",
      "\u001b[0;32m~/anaconda3/envs/cadex_1/lib/python3.7/multiprocessing/queues.py\u001b[0m in \u001b[0;36mget\u001b[0;34m(self, block, timeout)\u001b[0m\n\u001b[1;32m    102\u001b[0m                 \u001b[0;32mif\u001b[0m \u001b[0mblock\u001b[0m\u001b[0;34m:\u001b[0m\u001b[0;34m\u001b[0m\u001b[0;34m\u001b[0m\u001b[0m\n\u001b[1;32m    103\u001b[0m                     \u001b[0mtimeout\u001b[0m \u001b[0;34m=\u001b[0m \u001b[0mdeadline\u001b[0m \u001b[0;34m-\u001b[0m \u001b[0mtime\u001b[0m\u001b[0;34m.\u001b[0m\u001b[0mmonotonic\u001b[0m\u001b[0;34m(\u001b[0m\u001b[0;34m)\u001b[0m\u001b[0;34m\u001b[0m\u001b[0;34m\u001b[0m\u001b[0m\n\u001b[0;32m--> 104\u001b[0;31m                     \u001b[0;32mif\u001b[0m \u001b[0;32mnot\u001b[0m \u001b[0mself\u001b[0m\u001b[0;34m.\u001b[0m\u001b[0m_poll\u001b[0m\u001b[0;34m(\u001b[0m\u001b[0mtimeout\u001b[0m\u001b[0;34m)\u001b[0m\u001b[0;34m:\u001b[0m\u001b[0;34m\u001b[0m\u001b[0;34m\u001b[0m\u001b[0m\n\u001b[0m\u001b[1;32m    105\u001b[0m                         \u001b[0;32mraise\u001b[0m \u001b[0mEmpty\u001b[0m\u001b[0;34m\u001b[0m\u001b[0;34m\u001b[0m\u001b[0m\n\u001b[1;32m    106\u001b[0m                 \u001b[0;32melif\u001b[0m \u001b[0;32mnot\u001b[0m \u001b[0mself\u001b[0m\u001b[0;34m.\u001b[0m\u001b[0m_poll\u001b[0m\u001b[0;34m(\u001b[0m\u001b[0;34m)\u001b[0m\u001b[0;34m:\u001b[0m\u001b[0;34m\u001b[0m\u001b[0;34m\u001b[0m\u001b[0m\n",
      "\u001b[0;32m~/anaconda3/envs/cadex_1/lib/python3.7/multiprocessing/connection.py\u001b[0m in \u001b[0;36mpoll\u001b[0;34m(self, timeout)\u001b[0m\n\u001b[1;32m    255\u001b[0m         \u001b[0mself\u001b[0m\u001b[0;34m.\u001b[0m\u001b[0m_check_closed\u001b[0m\u001b[0;34m(\u001b[0m\u001b[0;34m)\u001b[0m\u001b[0;34m\u001b[0m\u001b[0;34m\u001b[0m\u001b[0m\n\u001b[1;32m    256\u001b[0m         \u001b[0mself\u001b[0m\u001b[0;34m.\u001b[0m\u001b[0m_check_readable\u001b[0m\u001b[0;34m(\u001b[0m\u001b[0;34m)\u001b[0m\u001b[0;34m\u001b[0m\u001b[0;34m\u001b[0m\u001b[0m\n\u001b[0;32m--> 257\u001b[0;31m         \u001b[0;32mreturn\u001b[0m \u001b[0mself\u001b[0m\u001b[0;34m.\u001b[0m\u001b[0m_poll\u001b[0m\u001b[0;34m(\u001b[0m\u001b[0mtimeout\u001b[0m\u001b[0;34m)\u001b[0m\u001b[0;34m\u001b[0m\u001b[0;34m\u001b[0m\u001b[0m\n\u001b[0m\u001b[1;32m    258\u001b[0m \u001b[0;34m\u001b[0m\u001b[0m\n\u001b[1;32m    259\u001b[0m     \u001b[0;32mdef\u001b[0m \u001b[0m__enter__\u001b[0m\u001b[0;34m(\u001b[0m\u001b[0mself\u001b[0m\u001b[0;34m)\u001b[0m\u001b[0;34m:\u001b[0m\u001b[0;34m\u001b[0m\u001b[0;34m\u001b[0m\u001b[0m\n",
      "\u001b[0;32m~/anaconda3/envs/cadex_1/lib/python3.7/multiprocessing/connection.py\u001b[0m in \u001b[0;36m_poll\u001b[0;34m(self, timeout)\u001b[0m\n\u001b[1;32m    412\u001b[0m \u001b[0;34m\u001b[0m\u001b[0m\n\u001b[1;32m    413\u001b[0m     \u001b[0;32mdef\u001b[0m \u001b[0m_poll\u001b[0m\u001b[0;34m(\u001b[0m\u001b[0mself\u001b[0m\u001b[0;34m,\u001b[0m \u001b[0mtimeout\u001b[0m\u001b[0;34m)\u001b[0m\u001b[0;34m:\u001b[0m\u001b[0;34m\u001b[0m\u001b[0;34m\u001b[0m\u001b[0m\n\u001b[0;32m--> 414\u001b[0;31m         \u001b[0mr\u001b[0m \u001b[0;34m=\u001b[0m \u001b[0mwait\u001b[0m\u001b[0;34m(\u001b[0m\u001b[0;34m[\u001b[0m\u001b[0mself\u001b[0m\u001b[0;34m]\u001b[0m\u001b[0;34m,\u001b[0m \u001b[0mtimeout\u001b[0m\u001b[0;34m)\u001b[0m\u001b[0;34m\u001b[0m\u001b[0;34m\u001b[0m\u001b[0m\n\u001b[0m\u001b[1;32m    415\u001b[0m         \u001b[0;32mreturn\u001b[0m \u001b[0mbool\u001b[0m\u001b[0;34m(\u001b[0m\u001b[0mr\u001b[0m\u001b[0;34m)\u001b[0m\u001b[0;34m\u001b[0m\u001b[0;34m\u001b[0m\u001b[0m\n\u001b[1;32m    416\u001b[0m \u001b[0;34m\u001b[0m\u001b[0m\n",
      "\u001b[0;32m~/anaconda3/envs/cadex_1/lib/python3.7/multiprocessing/connection.py\u001b[0m in \u001b[0;36mwait\u001b[0;34m(object_list, timeout)\u001b[0m\n\u001b[1;32m    919\u001b[0m \u001b[0;34m\u001b[0m\u001b[0m\n\u001b[1;32m    920\u001b[0m             \u001b[0;32mwhile\u001b[0m \u001b[0;32mTrue\u001b[0m\u001b[0;34m:\u001b[0m\u001b[0;34m\u001b[0m\u001b[0;34m\u001b[0m\u001b[0m\n\u001b[0;32m--> 921\u001b[0;31m                 \u001b[0mready\u001b[0m \u001b[0;34m=\u001b[0m \u001b[0mselector\u001b[0m\u001b[0;34m.\u001b[0m\u001b[0mselect\u001b[0m\u001b[0;34m(\u001b[0m\u001b[0mtimeout\u001b[0m\u001b[0;34m)\u001b[0m\u001b[0;34m\u001b[0m\u001b[0;34m\u001b[0m\u001b[0m\n\u001b[0m\u001b[1;32m    922\u001b[0m                 \u001b[0;32mif\u001b[0m \u001b[0mready\u001b[0m\u001b[0;34m:\u001b[0m\u001b[0;34m\u001b[0m\u001b[0;34m\u001b[0m\u001b[0m\n\u001b[1;32m    923\u001b[0m                     \u001b[0;32mreturn\u001b[0m \u001b[0;34m[\u001b[0m\u001b[0mkey\u001b[0m\u001b[0;34m.\u001b[0m\u001b[0mfileobj\u001b[0m \u001b[0;32mfor\u001b[0m \u001b[0;34m(\u001b[0m\u001b[0mkey\u001b[0m\u001b[0;34m,\u001b[0m \u001b[0mevents\u001b[0m\u001b[0;34m)\u001b[0m \u001b[0;32min\u001b[0m \u001b[0mready\u001b[0m\u001b[0;34m]\u001b[0m\u001b[0;34m\u001b[0m\u001b[0;34m\u001b[0m\u001b[0m\n",
      "\u001b[0;32m~/anaconda3/envs/cadex_1/lib/python3.7/selectors.py\u001b[0m in \u001b[0;36mselect\u001b[0;34m(self, timeout)\u001b[0m\n\u001b[1;32m    413\u001b[0m         \u001b[0mready\u001b[0m \u001b[0;34m=\u001b[0m \u001b[0;34m[\u001b[0m\u001b[0;34m]\u001b[0m\u001b[0;34m\u001b[0m\u001b[0;34m\u001b[0m\u001b[0m\n\u001b[1;32m    414\u001b[0m         \u001b[0;32mtry\u001b[0m\u001b[0;34m:\u001b[0m\u001b[0;34m\u001b[0m\u001b[0;34m\u001b[0m\u001b[0m\n\u001b[0;32m--> 415\u001b[0;31m             \u001b[0mfd_event_list\u001b[0m \u001b[0;34m=\u001b[0m \u001b[0mself\u001b[0m\u001b[0;34m.\u001b[0m\u001b[0m_selector\u001b[0m\u001b[0;34m.\u001b[0m\u001b[0mpoll\u001b[0m\u001b[0;34m(\u001b[0m\u001b[0mtimeout\u001b[0m\u001b[0;34m)\u001b[0m\u001b[0;34m\u001b[0m\u001b[0;34m\u001b[0m\u001b[0m\n\u001b[0m\u001b[1;32m    416\u001b[0m         \u001b[0;32mexcept\u001b[0m \u001b[0mInterruptedError\u001b[0m\u001b[0;34m:\u001b[0m\u001b[0;34m\u001b[0m\u001b[0;34m\u001b[0m\u001b[0m\n\u001b[1;32m    417\u001b[0m             \u001b[0;32mreturn\u001b[0m \u001b[0mready\u001b[0m\u001b[0;34m\u001b[0m\u001b[0;34m\u001b[0m\u001b[0m\n",
      "\u001b[0;31mKeyboardInterrupt\u001b[0m: "
     ]
    }
   ],
   "source": [
    "for batch in iter(dataloader_dict[\"train\"]):\n",
    "    print(\"Size of a batch:\", batch.size)"
   ]
  },
  {
   "cell_type": "code",
   "execution_count": null,
   "metadata": {},
   "outputs": [],
   "source": []
  }
 ],
 "metadata": {
  "kernelspec": {
   "display_name": "mykernel",
   "language": "python",
   "name": "mykernel"
  },
  "language_info": {
   "codemirror_mode": {
    "name": "ipython",
    "version": 3
   },
   "file_extension": ".py",
   "mimetype": "text/x-python",
   "name": "python",
   "nbconvert_exporter": "python",
   "pygments_lexer": "ipython3",
   "version": "3.7.13"
  },
  "orig_nbformat": 4,
  "vscode": {
   "interpreter": {
    "hash": "b285100ef572e8bce26941eab5cbe7b2c48dcb7c648cf35e85b0f6ae5c8f083a"
   }
  }
 },
 "nbformat": 4,
 "nbformat_minor": 2
}
