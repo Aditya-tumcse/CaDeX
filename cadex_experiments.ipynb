{
 "cells": [
  {
   "cell_type": "code",
   "execution_count": 2,
   "metadata": {},
   "outputs": [],
   "source": [
    "import h5py\n",
    "# "
   ]
  },
  {
   "cell_type": "markdown",
   "metadata": {},
   "source": [
    "Convert D-FAUST dataset into .ply file"
   ]
  },
  {
   "cell_type": "code",
   "execution_count": 15,
   "metadata": {},
   "outputs": [
    {
     "data": {
      "text/plain": [
       "True"
      ]
     },
     "execution_count": 15,
     "metadata": {},
     "output_type": "execute_result"
    }
   ],
   "source": [
    "file_path = \"/usr/stud/srinivaa/storage/slurm/cadex/dfaust_resgistered/Humans/50004_hips/mesh_seq_registered/00000000.npz\"\n",
    "data = np.load(file_path)\n",
    "# pcd = o3d.geometry.PointCloud()\n",
    "# pcd.points = o3d.utility.Vector3dVector(data['points'])\n",
    "# o3d.io.write_point_cloud(\"registered_dfaust.ply\", pcd)\n",
    "\n",
    "o3d_mesh = o3d.geometry.TriangleMesh()\n",
    "o3d_mesh.vertices = o3d.utility.Vector3dVector(data[\"points\"]) # verify what is the name of the attribute for vertices in data dictionary. It should be vertices as given in load method in MeshField class.\n",
    "o3d_mesh.triangles = o3d.utility.Vector3iVector(data[\"triangles\"])\n",
    "o3d.io.write_triangle_mesh(\"registered_dfaust.ply\",o3d_mesh)"
   ]
  },
  {
   "cell_type": "markdown",
   "metadata": {},
   "source": [
    "### Extract data from registred DFAUST scans"
   ]
  },
  {
   "cell_type": "code",
   "execution_count": 5,
   "metadata": {},
   "outputs": [],
   "source": [
    "filename = \"/usr/stud/srinivaa/storage/slurm/cadex/dfaust_resgistered/registrations_f.hdf5\"\n",
    "f =  h5py.File(filename, \"r\")\n",
    "a_dataset_keys = list(f.keys()) #extract the different groups of meshes    \n"
   ]
  },
  {
   "cell_type": "code",
   "execution_count": 6,
   "metadata": {},
   "outputs": [],
   "source": [
    "dataset_list = [a_dataset_keys[0],a_dataset_keys[-1]]"
   ]
  },
  {
   "cell_type": "code",
   "execution_count": 7,
   "metadata": {},
   "outputs": [],
   "source": [
    "\n",
    "for data in dataset_list:\n",
    "    data_face = f[data]\n",
    "data_face_arr = np.asarray(data_face)\n",
    "\n",
    "for data in a_dataset_keys[:1]:\n",
    "    data_i = f[data]\n",
    "data_i_arr = np.asarray(data_i)"
   ]
  },
  {
   "cell_type": "code",
   "execution_count": 12,
   "metadata": {},
   "outputs": [
    {
     "data": {
      "text/plain": [
       "'00000009'"
      ]
     },
     "execution_count": 12,
     "metadata": {},
     "output_type": "execute_result"
    }
   ],
   "source": [
    "file_index = \"%08d\"%9\n",
    "file_index"
   ]
  },
  {
   "cell_type": "code",
   "execution_count": 65,
   "metadata": {},
   "outputs": [
    {
     "data": {
      "text/plain": [
       "True"
      ]
     },
     "execution_count": 65,
     "metadata": {},
     "output_type": "execute_result"
    }
   ],
   "source": [
    "o3d_mesh = o3d.geometry.TriangleMesh()\n",
    "o3d_mesh.vertices = o3d.utility.Vector3dVector(data_i_arr[:,:,0]) # verify what is the name of the attribute for vertices in data dictionary. It should be vertices as given in load method in MeshField class.\n",
    "o3d_mesh.triangles = o3d.utility.Vector3iVector(data_face_arr)\n",
    "o3d.io.write_triangle_mesh(\"registered_dfaust.ply\",o3d_mesh)"
   ]
  },
  {
   "cell_type": "markdown",
   "metadata": {},
   "source": [
    "## Custom dataset of CaDeX"
   ]
  },
  {
   "cell_type": "code",
   "execution_count": 2,
   "metadata": {},
   "outputs": [],
   "source": [
    "import numpy as np\n",
    "import os\n",
    "import dataset.oflow_dataset as oflow_dataset\n",
    "from torch.utils import data\n",
    "from torch.utils.data import DataLoader"
   ]
  },
  {
   "cell_type": "markdown",
   "metadata": {},
   "source": [
    "Write a class for custom dataset "
   ]
  },
  {
   "cell_type": "code",
   "execution_count": 3,
   "metadata": {},
   "outputs": [],
   "source": [
    "class HumansDataset(data.Dataset):\n",
    "    def __init__(\n",
    "        self,\n",
    "        dataset_folder,\n",
    "        fields,\n",
    "        split=None,\n",
    "        categories=None,\n",
    "        no_except=True,\n",
    "        transform=None,\n",
    "        length_sequence=17,\n",
    "        n_files_per_sequence=-1,\n",
    "        offset_sequence=0,\n",
    "        ex_folder_name=\"pcl_seq\",\n",
    "        **kwargs\n",
    "    ):\n",
    "        # Attributes\n",
    "        self.dataset_folder = dataset_folder\n",
    "        self.fields = fields\n",
    "        self.no_except = no_except\n",
    "        self.transform = transform\n",
    "        self.length_sequence = length_sequence\n",
    "        self.n_files_per_sequence = n_files_per_sequence\n",
    "        self.offset_sequence = offset_sequence\n",
    "        self.ex_folder_name = ex_folder_name\n",
    "       \n",
    "        # Read metadata file\n",
    "        metadata_file = os.path.join(dataset_folder, \"metadata.yaml\")\n",
    "\n",
    "        \n",
    "        self.metadata = {c: {\"id\": c, \"name\": \"n/a\"} for c in categories}\n",
    "\n",
    "        # Set index\n",
    "        for c_idx, c in enumerate(categories):\n",
    "            self.metadata[c][\"idx\"] = c_idx #only one category: D-FAUST. contains single ID only\n",
    "\n",
    "        # Get all models\n",
    "        self.models = []\n",
    "        for c_idx, c in enumerate(categories):\n",
    "            subpath = os.path.join(dataset_folder, c) #subpath: /usr/stud/srinivaa/code/new_CaDeX/CaDeX/resource/data/Humans/D-FAUST\n",
    "           \n",
    "            if split is not None and os.path.exists(os.path.join(subpath, split + \".lst\")):\n",
    "                split_file = os.path.join(subpath, split + \".lst\") # for train mode: /usr/stud/srinivaa/code/new_CaDeX/CaDeX/resource/data/Humans/D-FAUST/train.lst\n",
    "                with open(split_file, \"r\") as f:\n",
    "                    models_c = f.read().split(\"\\n\") # All files in train.lst for training mode\n",
    "           \n",
    "            models_c = list(filter(lambda x: len(x) > 0, models_c))\n",
    "            models_len = self.get_models_seq_len(subpath, models_c) # gives the total number .npz files in each model\n",
    "            models_c, start_idx = self.subdivide_into_sequences(models_c, models_len)\n",
    "            self.models += [\n",
    "                {\"category\": c, \"model\": m, \"start_idx\": start_idx[i]}\n",
    "                for i, m in enumerate(models_c)\n",
    "            ]\n",
    "        \n",
    "       \n",
    "\n",
    "    def __len__(self):\n",
    "       return len(self.models)\n",
    "    \n",
    "    \n",
    "    def __getitem__(self,idx):\n",
    "        category = self.models[idx][\"category\"]\n",
    "        model = self.models[idx][\"model\"]\n",
    "        start_idx = self.models[idx][\"start_idx\"]\n",
    "        c_idx = self.metadata[category][\"idx\"]\n",
    "\n",
    "        model_path = os.path.join(self.dataset_folder, category, model)\n",
    "\n",
    "        data = {}\n",
    "\n",
    "        \n",
    "        for field_name, field in self.fields.items():\n",
    "            field_data = field.load(model_path, idx, c_idx, start_idx)\n",
    " \n",
    "            if isinstance(field_data, dict):\n",
    "                for k, v in field_data.items():\n",
    "                    if k is None:\n",
    "                        data[field_name] = v\n",
    "                    else:\n",
    "                        data[\"%s.%s\" % (field_name, k)] = v\n",
    "            else:\n",
    "                data[field_name] = field_data\n",
    "           \n",
    "\n",
    "        if self.transform is not None:\n",
    "            data = self.transform(data)\n",
    "\n",
    "        \n",
    "        \n",
    "        return data\n",
    "\n",
    "    def get_models_seq_len(self, subpath, models):\n",
    "        \"\"\"Returns the sequence length of a specific model.\n",
    "\n",
    "        This is a little \"hacky\" as we assume the existence of the folder\n",
    "        self.ex_folder_name. However, in our case this is always given.\n",
    "\n",
    "        Args:\n",
    "            subpath (str): subpath of model category\n",
    "            models (list): list of model names\n",
    "        \"\"\"\n",
    "        ex_folder_name = self.ex_folder_name\n",
    "        models_seq_len = []\n",
    "        for m in models:\n",
    "            _sublist = [\n",
    "                f for f in os.listdir(os.path.join(subpath, m, ex_folder_name)) if \"_\" not in f\n",
    "            ]\n",
    "            models_seq_len.append(len(_sublist))\n",
    "        # models_seq_len = [len(os.listdir(os.path.join(subpath, m, ex_folder_name))) for m in models]\n",
    "        return models_seq_len\n",
    "\n",
    "    def subdivide_into_sequences(self, models, models_len):\n",
    "        \"\"\"Subdivides model sequence into smaller sequences.\n",
    "\n",
    "        Args:\n",
    "            models (list): list of model names\n",
    "            models_len (list): list of lengths of model sequences\n",
    "        \"\"\"\n",
    "        length_sequence = self.length_sequence\n",
    "        n_files_per_sequence = self.n_files_per_sequence\n",
    "        offset_sequence = self.offset_sequence\n",
    "\n",
    "        # Remove files before offset\n",
    "        models_len = [l - offset_sequence for l in models_len]\n",
    "\n",
    "        # Reduce to maximum number of files that should be considered\n",
    "        if n_files_per_sequence > 0:\n",
    "            models_len = [min(n_files_per_sequence, l) for l in models_len]\n",
    "\n",
    "        models_out = []\n",
    "        start_idx = []\n",
    "        for idx, model in enumerate(models):\n",
    "            for n in range(0, models_len[idx] - length_sequence + 1):\n",
    "                models_out.append(model)\n",
    "                start_idx.append(n + offset_sequence)\n",
    "\n",
    "        return models_out, start_idx   \n",
    "    "
   ]
  },
  {
   "cell_type": "code",
   "execution_count": 4,
   "metadata": {},
   "outputs": [],
   "source": [
    "def get_transforms():\n",
    "    \"\"\"Returns transform objects.\n",
    "\n",
    "    Args:\n",
    "        cfg (yaml config): yaml config object\n",
    "    \"\"\"\n",
    "    n_pcl = 100\n",
    "    n_pt = 512\n",
    "    n_pt_eval = 10000\n",
    "\n",
    "    transf_pt = oflow_dataset.SubsamplePoints(n_pt)\n",
    "    transf_pt_val = oflow_dataset.SubsamplePointsSeq(n_pt_eval, random=False)\n",
    "    transf_pcl_val = oflow_dataset.SubsamplePointcloudSeq(n_pt_eval, random=False)\n",
    "    transf_pcl = oflow_dataset.SubsamplePointcloudSeq(n_pcl, connected_samples=True)\n",
    "\n",
    "    return transf_pt, transf_pt_val, transf_pcl, transf_pcl_val"
   ]
  },
  {
   "cell_type": "code",
   "execution_count": 5,
   "metadata": {},
   "outputs": [],
   "source": [
    "def get_data_fields(mode):\n",
    "    \"\"\"Returns data fields.\n",
    "\n",
    "    Args:\n",
    "        mode (str): mode (train|val|test)\n",
    "        cfg (yaml config): yaml config object\n",
    "    \"\"\"\n",
    "    fields = {}\n",
    "    seq_len_train = 17\n",
    "   \n",
    "    seq_len_val = seq_len_train\n",
    "    p_folder = \"points_seq\" # points_seq: contains information regarding the points and their corresponding occupancy values\n",
    "    pcl_folder = \"pcl_seq\" #pcl_seq : contains information regarding the points, scale and loc\n",
    "    mesh_folder = \"mesh_registred\" #mesh_seq: non-existent. Utilize this to have a file containing points and faces for each model.\n",
    "    generate_interpolate = False #False\n",
    "    unpackbits = True # True\n",
    "    \n",
    "    training_all = False\n",
    "    \n",
    "    n_training_frames = 8\n",
    "\n",
    "    # Transformation\n",
    "    transf_pt, transf_pt_val, transf_pcl, transf_pcl_val = get_transforms()\n",
    "\n",
    "    # Fields\n",
    "    pts_iou_field = oflow_dataset.PointsSubseqField\n",
    "    pts_corr_field = oflow_dataset.PointCloudSubseqField\n",
    "\n",
    "    # MeshSubseqField can be used to load mesh fields\n",
    "\n",
    "  \n",
    "    not_choose_last = False\n",
    "    training_multi_files = False\n",
    "    \n",
    "    loss_recon = \"true\"\n",
    "    loss_corr = \"true\"\n",
    "\n",
    "    if mode == \"train\":\n",
    "        if loss_recon:\n",
    "            if training_all:\n",
    "                fields[\"points\"] = pts_iou_field(\n",
    "                    p_folder,\n",
    "                    transform=transf_pt,\n",
    "                    all_steps=True,\n",
    "                    seq_len=seq_len_train,\n",
    "                    unpackbits=unpackbits,\n",
    "                    use_multi_files=training_multi_files,\n",
    "                )\n",
    "            else:\n",
    "                fields[\"points\"] = pts_iou_field(\n",
    "                    p_folder,\n",
    "                    sample_nframes=n_training_frames,\n",
    "                    transform=transf_pt,\n",
    "                    seq_len=seq_len_train,\n",
    "                    fixed_time_step=0,\n",
    "                    unpackbits=unpackbits,\n",
    "                    use_multi_files=training_multi_files,\n",
    "                )\n",
    "            # fields[\"points_t\"] = pts_iou_field(\n",
    "            #     p_folder,\n",
    "            #     transform=transf_pt,\n",
    "            #     seq_len=seq_len_train,\n",
    "            #     unpackbits=unpackbits,\n",
    "            #     not_choose_last=not_choose_last,\n",
    "            #     use_multi_files=training_multi_files,\n",
    "            # )\n",
    "\n",
    "\n",
    "            # fields[\"mesh\"] = oflow_dataset.MeshField(\n",
    "            # mesh_folder, seq_len=seq_len_val)\n",
    "\n",
    "    # only training can be boost by multi-files\n",
    "    # modify here, if not train, val should also load the same as the test\n",
    "    else:\n",
    "        fields[\"points\"] = pts_iou_field(\n",
    "            p_folder,\n",
    "            transform=transf_pt_val,\n",
    "            all_steps=True,\n",
    "            seq_len=seq_len_val,\n",
    "            unpackbits=unpackbits,\n",
    "        )\n",
    "        fields[\n",
    "            \"points_mesh\"\n",
    "        ] = pts_corr_field(  # ? this if for correspondence? Checked, this is for chamfer distance, make sure that because here we use tranforms, teh pts in config file must be 100000\n",
    "            pcl_folder, transform=transf_pcl_val, seq_len=seq_len_val\n",
    "        )\n",
    "    # Connectivity Loss:\n",
    "    if loss_corr:\n",
    "        # fields[\"pointcloud\"] = pts_corr_field(\n",
    "        #     pcl_folder,\n",
    "        #     transform=transf_pcl,\n",
    "        #     seq_len=seq_len_train,\n",
    "        #     use_multi_files=training_multi_files,\n",
    "        # )\n",
    "        fields[\"pointcloud\"] = oflow_dataset.PointCloudField(\n",
    "            mesh_folder, seq_len=seq_len_val)\n",
    "    if mode == \"test\" and generate_interpolate:\n",
    "        fields[\"mesh\"] = oflow_dataset.MeshSubseqField(\n",
    "            mesh_folder, seq_len=seq_len_val, only_end_points=True\n",
    "        )\n",
    "    fields[\"oflow_idx\"] = oflow_dataset.IndexField()\n",
    "    return fields"
   ]
  },
  {
   "cell_type": "code",
   "execution_count": 6,
   "metadata": {},
   "outputs": [],
   "source": [
    "def get_inputs_field(mode):\n",
    "    \n",
    "    input_type = \"mesh_seq\"\n",
    "    seq_len_train = 17\n",
    "    seq_len_val = seq_len_train\n",
    "    \n",
    "    seq_len = seq_len_train\n",
    "    \n",
    "\n",
    "    if input_type is None:\n",
    "        inputs_field = None\n",
    "    elif input_type == \"img_seq\":\n",
    "        if mode == \"train\" and cfg[\"dataset\"][\"oflow_config\"][\"img_augment\"]:\n",
    "            resize_op = transforms.RandomResizedCrop(\n",
    "                cfg[\"dataset\"][\"oflow_config\"][\"img_size\"], (0.75, 1.0), (1.0, 1.0)\n",
    "            )\n",
    "        else:\n",
    "            resize_op = transforms.Resize((cfg[\"dataset\"][\"oflow_config\"][\"img_size\"]))\n",
    "\n",
    "        transform = transforms.Compose(\n",
    "            [\n",
    "                resize_op,\n",
    "                transforms.ToTensor(),\n",
    "            ]\n",
    "        )\n",
    "\n",
    "        if mode == \"train\":\n",
    "            random_view = True\n",
    "        else:\n",
    "            random_view = False\n",
    "\n",
    "        inputs_field = oflow_dataset.ImageSubseqField(\n",
    "            cfg[\"dataset\"][\"oflow_config\"][\"img_seq_folder\"], transform, random_view=random_view\n",
    "        )\n",
    "    elif input_type == \"pcl_seq\":\n",
    "        connected_samples = cfg[\"dataset\"][\"oflow_config\"][\"input_pointcloud_corresponding\"]\n",
    "        transform = transforms.Compose(\n",
    "            [\n",
    "                oflow_dataset.SubsamplePointcloudSeq(\n",
    "                    cfg[\"dataset\"][\"oflow_config\"][\"input_pointcloud_n\"],\n",
    "                    connected_samples=connected_samples,\n",
    "                ),\n",
    "                oflow_dataset.PointcloudNoise(\n",
    "                    cfg[\"dataset\"][\"oflow_config\"][\"input_pointcloud_noise\"]\n",
    "                ),\n",
    "            ]\n",
    "        )\n",
    "        training_multi_files = False\n",
    "        if \"training_multi_files\" in cfg[\"dataset\"][\"oflow_config\"]:\n",
    "            if cfg[\"dataset\"][\"oflow_config\"][\"training_multi_files\"] and mode == \"train\":\n",
    "                training_multi_files = True\n",
    "                logging.info(\n",
    "                    \"Oflow D-FAUST PCL Field use multi files to speed up disk performation\"\n",
    "                )\n",
    "\n",
    "        inputs_field = oflow_dataset.PointCloudSubseqField(\n",
    "            cfg[\"dataset\"][\"oflow_config\"][\"pointcloud_seq_folder\"],\n",
    "            transform,\n",
    "            seq_len=seq_len,\n",
    "            use_multi_files=training_multi_files,\n",
    "        )\n",
    "    #TODO : get inputs fields for mesh sequence\n",
    "    elif input_type == \"mesh_seq\":\n",
    "        \n",
    "        # transform = transforms.Compose(\n",
    "        #     [\n",
    "        #         #oflow_dataset.MeshNoise(),\n",
    "        #         #oflow_dataset.DownSampleMesh(N = 512)\n",
    "        #     ]\n",
    "        # )\n",
    "\n",
    "        inputs_field = oflow_dataset.MeshField(\n",
    "            \"mesh_registred\"\n",
    "        )\n",
    "    elif input_type == \"end_pointclouds\":\n",
    "        transform = oflow_dataset.SubsamplePointcloudSeq(\n",
    "            cfg[\"dataset\"][\"oflow_config\"][\"input_pointcloud_n\"],\n",
    "            connected_samples=cfg[\"dataset\"][\"oflow_config\"][\"input_pointcloud_corresponding\"],\n",
    "        )\n",
    "\n",
    "        inputs_field = oflow_dataset.PointCloudSubseqField(\n",
    "            cfg[\"dataset\"][\"oflow_config\"][\"pointcloud_seq_folder\"],\n",
    "            only_end_points=True,\n",
    "            seq_len=seq_len,\n",
    "            transform=transform,\n",
    "        )\n",
    "    elif input_type == \"idx\":\n",
    "        inputs_field = oflow_dataset.IndexField()\n",
    "    else:\n",
    "        raise ValueError(\"Invalid input type (%s)\" % input_type)\n",
    "    return inputs_field"
   ]
  },
  {
   "cell_type": "code",
   "execution_count": 7,
   "metadata": {},
   "outputs": [],
   "source": [
    "fields = get_data_fields(\"train\")\n",
    "inputs_field = get_inputs_field(\"train\")\n",
    "\n",
    "if inputs_field is not None:\n",
    "    fields[\"inputs\"] = inputs_field"
   ]
  },
  {
   "cell_type": "code",
   "execution_count": 8,
   "metadata": {},
   "outputs": [],
   "source": [
    "dataset_folder = \"/usr/data/cvpr_shared/marvin/Data/CaDeX/data/Humans\"\n",
    "categories = [\"D-FAUST\"]"
   ]
  },
  {
   "cell_type": "markdown",
   "metadata": {},
   "source": [
    "Instantiate a custom dataset object"
   ]
  },
  {
   "cell_type": "code",
   "execution_count": 9,
   "metadata": {},
   "outputs": [],
   "source": [
    "dataset = HumansDataset(\n",
    "        dataset_folder,\n",
    "        fields,\n",
    "        split=\"train\",\n",
    "        categories=categories,\n",
    "        length_sequence=17,\n",
    "        n_files_per_sequence=-1,\n",
    "        offset_sequence=15,\n",
    "        ex_folder_name=\"mesh_registred\",\n",
    "    )"
   ]
  },
  {
   "cell_type": "code",
   "execution_count": 12,
   "metadata": {},
   "outputs": [
    {
     "data": {
      "text/plain": [
       "(17, 6890, 3)"
      ]
     },
     "execution_count": 12,
     "metadata": {},
     "output_type": "execute_result"
    }
   ],
   "source": [
    "dataset[1]['inputs.vertices'].shape"
   ]
  },
  {
   "cell_type": "markdown",
   "metadata": {},
   "source": [
    "Test the dataloader"
   ]
  },
  {
   "cell_type": "markdown",
   "metadata": {},
   "source": [
    "### Study shape class"
   ]
  },
  {
   "cell_type": "code",
   "execution_count": 12,
   "metadata": {},
   "outputs": [],
   "source": [
    "from core.models.utils_arap.shape_utils import Shape\n",
    "import torch"
   ]
  },
  {
   "cell_type": "code",
   "execution_count": 13,
   "metadata": {},
   "outputs": [],
   "source": [
    "shape_1 = Shape(vert=torch.from_numpy(dataset[1]['mesh.vertices']),triv=torch.from_numpy(dataset[1]['mesh.triangles']))"
   ]
  },
  {
   "cell_type": "markdown",
   "metadata": {},
   "source": [
    "### Convert .npz file into .ply file"
   ]
  },
  {
   "cell_type": "code",
   "execution_count": 5,
   "metadata": {},
   "outputs": [],
   "source": [
    "# activate cadex_exp venv\n",
    "import open3d as o3d\n",
    "import numpy as np"
   ]
  },
  {
   "cell_type": "code",
   "execution_count": 23,
   "metadata": {},
   "outputs": [
    {
     "data": {
      "text/plain": [
       "True"
      ]
     },
     "execution_count": 23,
     "metadata": {},
     "output_type": "execute_result"
    }
   ],
   "source": [
    "vertices_path = \"//usr/stud/srinivaa/code/new_CaDeX/CaDeX/cdc_1.npz\"\n",
    "data_vertices = np.load(file_path)\n",
    "#data_faces = np.load(\"/usr/data/cvpr_shared/marvin/Data/CaDeX/data/Humans/D-FAUST/50002_chicken_wings/mesh_registred/00000000.npz\")[\"triangles\"]\n",
    "pcd = o3d.geometry.PointCloud()\n",
    "pcd.points = o3d.utility.Vector3dVector(np.vstack(data_vertices['points']))\n",
    "o3d.io.write_point_cloud(\"cdc_1.ply\", pcd)\n",
    "\n",
    "# o3d_mesh = o3d.geometry.TriangleMesh()\n",
    "# o3d_mesh.vertices = o3d.utility.Vector3dVector(np.vstack(data_vertices[\"points\"])) # verify what is the name of the attribute for vertices in data dictionary. It should be vertices as given in load method in MeshField class.\n",
    "# o3d_mesh.triangles = o3d.utility.Vector3iVector(data_faces)\n",
    "# o3d.io.write_triangle_mesh(\"cdc_0_mesh.ply\",o3d_mesh)"
   ]
  },
  {
   "cell_type": "markdown",
   "metadata": {},
   "source": [
    "### Study ARAP loss"
   ]
  },
  {
   "cell_type": "code",
   "execution_count": 33,
   "metadata": {},
   "outputs": [],
   "source": [
    "from core.models.utils_arap.arap_interpolation import ArapInterpolationEnergy\n",
    "import torch\n",
    "import numpy as np\n",
    "from core.models.utils_arap.shape_utils import Shape\n"
   ]
  },
  {
   "cell_type": "code",
   "execution_count": 143,
   "metadata": {},
   "outputs": [],
   "source": [
    "def arap_exact(vert_diff_t, vert_diff_0, neigh, n_vert):\n",
    "\n",
    "    #EXPLORE : Get the shapes of vert_diff_t and vert_diff_0. Check if they are tnesors and batch matrix multiplication is possible\n",
    "    print(\"Shape of vert_diff_t:\", vert_diff_t.shape)\n",
    "    print(\"Shape of vert_diff_0:\", vert_diff_0.shape)\n",
    "\n",
    "\n",
    "    S_neigh = torch.bmm(vert_diff_t.unsqueeze(2), vert_diff_0.unsqueeze(1))\n",
    "\n",
    "    S = my_zeros([n_vert, 3, 3])\n",
    "\n",
    "    S = torch.index_add(S, 0, neigh[:, 0], S_neigh)\n",
    "    S = torch.index_add(S, 0, neigh[:, 1], S_neigh)\n",
    "\n",
    "    U, _, V = torch.svd(S.cpu(), compute_uv=True)\n",
    "\n",
    "    U = U.to(device)\n",
    "    V = V.to(device)\n",
    "\n",
    "    R = torch.bmm(U, V.transpose(1, 2))\n",
    "\n",
    "    Sigma = my_ones((R.shape[0], 1, 3))\n",
    "    Sigma[:, :, 2] = torch.det(R).unsqueeze(1)\n",
    "\n",
    "    R = torch.bmm(U * Sigma, V.transpose(1, 2))\n",
    "\n",
    "    return R\n",
    "\n",
    "\n",
    "def arap_energy_exact(vert_t, vert_0, neigh, lambda_reg_len=1e-6):\n",
    "    n_vert = vert_t.shape[0]\n",
    "    print(\"Neighbours:\",neigh[:,0])\n",
    "    vert_diff_t = vert_t[neigh[:, 0], :] - vert_t[neigh[:, 1], :]\n",
    "    vert_diff_0 = vert_0[neigh[:, 0], :] - vert_0[neigh[:, 1], :]\n",
    "\n",
    "    R_t = arap_exact(vert_diff_t, vert_diff_0, neigh, n_vert)\n",
    "\n",
    "    R_neigh_t = 0.5 * (\n",
    "        torch.index_select(R_t, 0, neigh[:, 0])\n",
    "        + torch.index_select(R_t, 0, neigh[:, 1])\n",
    "    )\n",
    "\n",
    "    vert_diff_0_rot = torch.bmm(R_neigh_t, vert_diff_0.unsqueeze(2)).squeeze()\n",
    "    acc_t_neigh = vert_diff_t - vert_diff_0_rot\n",
    "\n",
    "    E_arap = acc_t_neigh.norm() ** 2 + lambda_reg_len * (vert_t - vert_0).norm() ** 2\n",
    "\n",
    "    return E_arap"
   ]
  },
  {
   "cell_type": "code",
   "execution_count": 144,
   "metadata": {},
   "outputs": [],
   "source": [
    "class ArapInterpolationEnergy():\n",
    "    \"\"\"The interpolation method based on Sorkine et al., 2007\"\"\"\n",
    "\n",
    "    def __init__(self):\n",
    "        super().__init__()\n",
    "\n",
    "    # override\n",
    "    def forward_single(self, vert_new, vert_ref, shape_i):\n",
    "        E_arap = arap_energy_exact(vert_new, vert_ref, shape_i.get_neigh())\n",
    "        return E_arap\n"
   ]
  },
  {
   "cell_type": "code",
   "execution_count": 145,
   "metadata": {},
   "outputs": [],
   "source": [
    "class ARAPBase(torch.nn.Module):\n",
    "    def __init__(self, interp_energy):\n",
    "        super().__init__()\n",
    "        self.interp_energy = interp_energy\n",
    "    \n",
    "    def _loss_deform(self, query_arr_vertices, query_arr_triangles, canonical_arr):\n",
    "        E = 0\n",
    "        \n",
    "        canonical_arr_i = canonical_arr\n",
    "        E = E + self._loss_deform_single(query_arr_vertices,query_arr_triangles,canonical_arr_i)\n",
    "        return E\n",
    "    \n",
    "    def _loss_deform_single(self, query_vertices, query_faces, canonical_arr_i):\n",
    "       \n",
    "        E_deform = 0.0\n",
    "        \n",
    "        for i in range(query_vertices.shape[0]):\n",
    "            \n",
    "            query_shape = Shape(query_vertices[i],query_faces[i])\n",
    "            E_x = self.interp_energy.forward_single(\n",
    "                query_vertices[i],canonical_arr_i , query_shape\n",
    "            )\n",
    "            # E_y = self.interp_energy.forward_single(\n",
    "            #     canonical_arr_i, query_vertices[i], query_shape\n",
    "            # )\n",
    "\n",
    "            # E_deform = E_deform + E_x + E_y\n",
    "\n",
    "        return E_deform"
   ]
  },
  {
   "cell_type": "code",
   "execution_count": 146,
   "metadata": {},
   "outputs": [],
   "source": [
    "seq_pc = torch.from_numpy(np.load(\"/usr/stud/srinivaa/code/new_CaDeX/CaDeX/vertices.npz\")['points'][0])\n",
    "seq_triv = torch.from_numpy(np.load(\"/usr/stud/srinivaa/code/new_CaDeX/CaDeX/faces.npz\")['faces'][0])\n",
    "inputs_cdc = torch.from_numpy(np.vstack(np.load(\"/usr/stud/srinivaa/code/new_CaDeX/CaDeX/cdc_0.npz\")['points']))\n"
   ]
  },
  {
   "cell_type": "code",
   "execution_count": 147,
   "metadata": {},
   "outputs": [
    {
     "data": {
      "text/plain": [
       "(117130, 3)"
      ]
     },
     "execution_count": 147,
     "metadata": {},
     "output_type": "execute_result"
    }
   ],
   "source": [
    "inputs_cdc = np.load(\"/usr/stud/srinivaa/code/new_CaDeX/CaDeX/cdc_0.npz\")['points']\n",
    "inputs_cdc.reshape(-1,3).shape"
   ]
  },
  {
   "cell_type": "code",
   "execution_count": 148,
   "metadata": {},
   "outputs": [
    {
     "name": "stdout",
     "output_type": "stream",
     "text": [
      "Neighbours: tensor([   1,    0,    2,  ..., 3511, 1330, 1330])\n"
     ]
    },
    {
     "ename": "IndexError",
     "evalue": "index 17 is out of bounds for axis 0 with size 17",
     "output_type": "error",
     "traceback": [
      "\u001b[0;31m---------------------------------------------------------------------------\u001b[0m",
      "\u001b[0;31mIndexError\u001b[0m                                Traceback (most recent call last)",
      "\u001b[0;32m/tmp/ipykernel_1182835/2844885779.py\u001b[0m in \u001b[0;36m<module>\u001b[0;34m\u001b[0m\n\u001b[1;32m      1\u001b[0m \u001b[0minterp_energy\u001b[0m \u001b[0;34m=\u001b[0m \u001b[0mArapInterpolationEnergy\u001b[0m\u001b[0;34m(\u001b[0m\u001b[0;34m)\u001b[0m\u001b[0;34m\u001b[0m\u001b[0;34m\u001b[0m\u001b[0m\n\u001b[1;32m      2\u001b[0m \u001b[0marap_base\u001b[0m \u001b[0;34m=\u001b[0m \u001b[0mARAPBase\u001b[0m\u001b[0;34m(\u001b[0m\u001b[0minterp_energy\u001b[0m\u001b[0;34m)\u001b[0m\u001b[0;34m\u001b[0m\u001b[0;34m\u001b[0m\u001b[0m\n\u001b[0;32m----> 3\u001b[0;31m \u001b[0marap_loss\u001b[0m \u001b[0;34m=\u001b[0m \u001b[0marap_base\u001b[0m\u001b[0;34m.\u001b[0m\u001b[0m_loss_deform\u001b[0m\u001b[0;34m(\u001b[0m\u001b[0mseq_pc\u001b[0m\u001b[0;34m,\u001b[0m\u001b[0mseq_triv\u001b[0m\u001b[0;34m,\u001b[0m\u001b[0minputs_cdc\u001b[0m\u001b[0;34m)\u001b[0m\u001b[0;34m\u001b[0m\u001b[0;34m\u001b[0m\u001b[0m\n\u001b[0m",
      "\u001b[0;32m/tmp/ipykernel_1182835/3208516142.py\u001b[0m in \u001b[0;36m_loss_deform\u001b[0;34m(self, query_arr_vertices, query_arr_triangles, canonical_arr)\u001b[0m\n\u001b[1;32m      8\u001b[0m \u001b[0;34m\u001b[0m\u001b[0m\n\u001b[1;32m      9\u001b[0m         \u001b[0mcanonical_arr_i\u001b[0m \u001b[0;34m=\u001b[0m \u001b[0mcanonical_arr\u001b[0m\u001b[0;34m\u001b[0m\u001b[0;34m\u001b[0m\u001b[0m\n\u001b[0;32m---> 10\u001b[0;31m         \u001b[0mE\u001b[0m \u001b[0;34m=\u001b[0m \u001b[0mE\u001b[0m \u001b[0;34m+\u001b[0m \u001b[0mself\u001b[0m\u001b[0;34m.\u001b[0m\u001b[0m_loss_deform_single\u001b[0m\u001b[0;34m(\u001b[0m\u001b[0mquery_arr_vertices\u001b[0m\u001b[0;34m,\u001b[0m\u001b[0mquery_arr_triangles\u001b[0m\u001b[0;34m,\u001b[0m\u001b[0mcanonical_arr_i\u001b[0m\u001b[0;34m)\u001b[0m\u001b[0;34m\u001b[0m\u001b[0;34m\u001b[0m\u001b[0m\n\u001b[0m\u001b[1;32m     11\u001b[0m         \u001b[0;32mreturn\u001b[0m \u001b[0mE\u001b[0m\u001b[0;34m\u001b[0m\u001b[0;34m\u001b[0m\u001b[0m\n\u001b[1;32m     12\u001b[0m \u001b[0;34m\u001b[0m\u001b[0m\n",
      "\u001b[0;32m/tmp/ipykernel_1182835/3208516142.py\u001b[0m in \u001b[0;36m_loss_deform_single\u001b[0;34m(self, query_vertices, query_faces, canonical_arr_i)\u001b[0m\n\u001b[1;32m     19\u001b[0m             \u001b[0mquery_shape\u001b[0m \u001b[0;34m=\u001b[0m \u001b[0mShape\u001b[0m\u001b[0;34m(\u001b[0m\u001b[0mquery_vertices\u001b[0m\u001b[0;34m[\u001b[0m\u001b[0mi\u001b[0m\u001b[0;34m]\u001b[0m\u001b[0;34m,\u001b[0m\u001b[0mquery_faces\u001b[0m\u001b[0;34m[\u001b[0m\u001b[0mi\u001b[0m\u001b[0;34m]\u001b[0m\u001b[0;34m)\u001b[0m\u001b[0;34m\u001b[0m\u001b[0;34m\u001b[0m\u001b[0m\n\u001b[1;32m     20\u001b[0m             E_x = self.interp_energy.forward_single(\n\u001b[0;32m---> 21\u001b[0;31m                 \u001b[0mquery_vertices\u001b[0m\u001b[0;34m[\u001b[0m\u001b[0mi\u001b[0m\u001b[0;34m]\u001b[0m\u001b[0;34m,\u001b[0m\u001b[0mcanonical_arr_i\u001b[0m \u001b[0;34m,\u001b[0m \u001b[0mquery_shape\u001b[0m\u001b[0;34m\u001b[0m\u001b[0;34m\u001b[0m\u001b[0m\n\u001b[0m\u001b[1;32m     22\u001b[0m             )\n\u001b[1;32m     23\u001b[0m             \u001b[0;31m# E_y = self.interp_energy.forward_single(\u001b[0m\u001b[0;34m\u001b[0m\u001b[0;34m\u001b[0m\u001b[0;34m\u001b[0m\u001b[0m\n",
      "\u001b[0;32m/tmp/ipykernel_1182835/588134012.py\u001b[0m in \u001b[0;36mforward_single\u001b[0;34m(self, vert_new, vert_ref, shape_i)\u001b[0m\n\u001b[1;32m      7\u001b[0m     \u001b[0;31m# override\u001b[0m\u001b[0;34m\u001b[0m\u001b[0;34m\u001b[0m\u001b[0;34m\u001b[0m\u001b[0m\n\u001b[1;32m      8\u001b[0m     \u001b[0;32mdef\u001b[0m \u001b[0mforward_single\u001b[0m\u001b[0;34m(\u001b[0m\u001b[0mself\u001b[0m\u001b[0;34m,\u001b[0m \u001b[0mvert_new\u001b[0m\u001b[0;34m,\u001b[0m \u001b[0mvert_ref\u001b[0m\u001b[0;34m,\u001b[0m \u001b[0mshape_i\u001b[0m\u001b[0;34m)\u001b[0m\u001b[0;34m:\u001b[0m\u001b[0;34m\u001b[0m\u001b[0;34m\u001b[0m\u001b[0m\n\u001b[0;32m----> 9\u001b[0;31m         \u001b[0mE_arap\u001b[0m \u001b[0;34m=\u001b[0m \u001b[0marap_energy_exact\u001b[0m\u001b[0;34m(\u001b[0m\u001b[0mvert_new\u001b[0m\u001b[0;34m,\u001b[0m \u001b[0mvert_ref\u001b[0m\u001b[0;34m,\u001b[0m \u001b[0mshape_i\u001b[0m\u001b[0;34m.\u001b[0m\u001b[0mget_neigh\u001b[0m\u001b[0;34m(\u001b[0m\u001b[0;34m)\u001b[0m\u001b[0;34m)\u001b[0m\u001b[0;34m\u001b[0m\u001b[0;34m\u001b[0m\u001b[0m\n\u001b[0m\u001b[1;32m     10\u001b[0m         \u001b[0;32mreturn\u001b[0m \u001b[0mE_arap\u001b[0m\u001b[0;34m\u001b[0m\u001b[0;34m\u001b[0m\u001b[0m\n",
      "\u001b[0;32m/tmp/ipykernel_1182835/4256881742.py\u001b[0m in \u001b[0;36marap_energy_exact\u001b[0;34m(vert_t, vert_0, neigh, lambda_reg_len)\u001b[0m\n\u001b[1;32m     32\u001b[0m     \u001b[0mprint\u001b[0m\u001b[0;34m(\u001b[0m\u001b[0;34m\"Neighbours:\"\u001b[0m\u001b[0;34m,\u001b[0m\u001b[0mneigh\u001b[0m\u001b[0;34m[\u001b[0m\u001b[0;34m:\u001b[0m\u001b[0;34m,\u001b[0m\u001b[0;36m0\u001b[0m\u001b[0;34m]\u001b[0m\u001b[0;34m)\u001b[0m\u001b[0;34m\u001b[0m\u001b[0;34m\u001b[0m\u001b[0m\n\u001b[1;32m     33\u001b[0m     \u001b[0mvert_diff_t\u001b[0m \u001b[0;34m=\u001b[0m \u001b[0mvert_t\u001b[0m\u001b[0;34m[\u001b[0m\u001b[0mneigh\u001b[0m\u001b[0;34m[\u001b[0m\u001b[0;34m:\u001b[0m\u001b[0;34m,\u001b[0m \u001b[0;36m0\u001b[0m\u001b[0;34m]\u001b[0m\u001b[0;34m,\u001b[0m \u001b[0;34m:\u001b[0m\u001b[0;34m]\u001b[0m \u001b[0;34m-\u001b[0m \u001b[0mvert_t\u001b[0m\u001b[0;34m[\u001b[0m\u001b[0mneigh\u001b[0m\u001b[0;34m[\u001b[0m\u001b[0;34m:\u001b[0m\u001b[0;34m,\u001b[0m \u001b[0;36m1\u001b[0m\u001b[0;34m]\u001b[0m\u001b[0;34m,\u001b[0m \u001b[0;34m:\u001b[0m\u001b[0;34m]\u001b[0m\u001b[0;34m\u001b[0m\u001b[0;34m\u001b[0m\u001b[0m\n\u001b[0;32m---> 34\u001b[0;31m     \u001b[0mvert_diff_0\u001b[0m \u001b[0;34m=\u001b[0m \u001b[0mvert_0\u001b[0m\u001b[0;34m[\u001b[0m\u001b[0mneigh\u001b[0m\u001b[0;34m[\u001b[0m\u001b[0;34m:\u001b[0m\u001b[0;34m,\u001b[0m \u001b[0;36m0\u001b[0m\u001b[0;34m]\u001b[0m\u001b[0;34m,\u001b[0m \u001b[0;34m:\u001b[0m\u001b[0;34m]\u001b[0m \u001b[0;34m-\u001b[0m \u001b[0mvert_0\u001b[0m\u001b[0;34m[\u001b[0m\u001b[0mneigh\u001b[0m\u001b[0;34m[\u001b[0m\u001b[0;34m:\u001b[0m\u001b[0;34m,\u001b[0m \u001b[0;36m1\u001b[0m\u001b[0;34m]\u001b[0m\u001b[0;34m,\u001b[0m \u001b[0;34m:\u001b[0m\u001b[0;34m]\u001b[0m\u001b[0;34m\u001b[0m\u001b[0;34m\u001b[0m\u001b[0m\n\u001b[0m\u001b[1;32m     35\u001b[0m \u001b[0;34m\u001b[0m\u001b[0m\n\u001b[1;32m     36\u001b[0m     \u001b[0mR_t\u001b[0m \u001b[0;34m=\u001b[0m \u001b[0marap_exact\u001b[0m\u001b[0;34m(\u001b[0m\u001b[0mvert_diff_t\u001b[0m\u001b[0;34m,\u001b[0m \u001b[0mvert_diff_0\u001b[0m\u001b[0;34m,\u001b[0m \u001b[0mneigh\u001b[0m\u001b[0;34m,\u001b[0m \u001b[0mn_vert\u001b[0m\u001b[0;34m)\u001b[0m\u001b[0;34m\u001b[0m\u001b[0;34m\u001b[0m\u001b[0m\n",
      "\u001b[0;31mIndexError\u001b[0m: index 17 is out of bounds for axis 0 with size 17"
     ]
    }
   ],
   "source": [
    "interp_energy = ArapInterpolationEnergy()\n",
    "arap_base = ARAPBase(interp_energy)\n",
    "arap_loss = arap_base._loss_deform(seq_pc,seq_triv,inputs_cdc)\n"
   ]
  },
  {
   "cell_type": "code",
   "execution_count": 26,
   "metadata": {},
   "outputs": [],
   "source": [
    "inputs_cdc = np.load(\"/usr/stud/srinivaa/code/new_CaDeX/CaDeX/cdc_0.npz\")"
   ]
  },
  {
   "cell_type": "code",
   "execution_count": 30,
   "metadata": {},
   "outputs": [
    {
     "data": {
      "text/plain": [
       "(117130, 3)"
      ]
     },
     "execution_count": 30,
     "metadata": {},
     "output_type": "execute_result"
    }
   ],
   "source": [
    "inputs_cdc.shape\n",
    "\n"
   ]
  },
  {
   "cell_type": "code",
   "execution_count": null,
   "metadata": {},
   "outputs": [],
   "source": []
  }
 ],
 "metadata": {
  "kernelspec": {
   "display_name": "Python 3.7.13 ('cadex_1': conda)",
   "language": "python",
   "name": "python3"
  },
  "language_info": {
   "codemirror_mode": {
    "name": "ipython",
    "version": 3
   },
   "file_extension": ".py",
   "mimetype": "text/x-python",
   "name": "python",
   "nbconvert_exporter": "python",
   "pygments_lexer": "ipython3",
   "version": "3.7.13"
  },
  "orig_nbformat": 4,
  "vscode": {
   "interpreter": {
    "hash": "00ecdfb374cb07288fc88678eed1090d022d8c5ada305335ac9b4b12e32ebcc6"
   }
  }
 },
 "nbformat": 4,
 "nbformat_minor": 2
}
