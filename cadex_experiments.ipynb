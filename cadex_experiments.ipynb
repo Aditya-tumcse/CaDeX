{
 "cells": [
  {
   "cell_type": "code",
   "execution_count": 41,
   "metadata": {},
   "outputs": [],
   "source": [
    "import h5py\n",
    "import numpy as np\n",
    "from tqdm import tqdm"
   ]
  },
  {
   "cell_type": "markdown",
   "metadata": {},
   "source": [
    "Convert D-FAUST dataset into .ply file"
   ]
  },
  {
   "cell_type": "code",
   "execution_count": 15,
   "metadata": {},
   "outputs": [
    {
     "data": {
      "text/plain": [
       "True"
      ]
     },
     "execution_count": 15,
     "metadata": {},
     "output_type": "execute_result"
    }
   ],
   "source": [
    "file_path = \"/usr/stud/srinivaa/storage/slurm/cadex/dfaust_resgistered/Humans/50004_hips/mesh_seq_registered/00000000.npz\"\n",
    "data = np.load(file_path)\n",
    "# pcd = o3d.geometry.PointCloud()\n",
    "# pcd.points = o3d.utility.Vector3dVector(data['points'])\n",
    "# o3d.io.write_point_cloud(\"registered_dfaust.ply\", pcd)\n",
    "\n",
    "o3d_mesh = o3d.geometry.TriangleMesh()\n",
    "o3d_mesh.vertices = o3d.utility.Vector3dVector(data[\"points\"]) # verify what is the name of the attribute for vertices in data dictionary. It should be vertices as given in load method in MeshField class.\n",
    "o3d_mesh.triangles = o3d.utility.Vector3iVector(data[\"triangles\"])\n",
    "o3d.io.write_triangle_mesh(\"registered_dfaust.ply\",o3d_mesh)"
   ]
  },
  {
   "cell_type": "markdown",
   "metadata": {},
   "source": [
    "### Extract data from registred DFAUST scans"
   ]
  },
  {
   "cell_type": "code",
   "execution_count": 10,
   "metadata": {},
   "outputs": [],
   "source": [
    "filename = \"/usr/stud/srinivaa/storage/slurm/cadex/dfaust_resgistered/registrations_f.hdf5\"\n",
    "f =  h5py.File(filename, \"r\")\n",
    "a_dataset_keys = list(f.keys()) #extract the different groups of meshes    "
   ]
  },
  {
   "cell_type": "code",
   "execution_count": 11,
   "metadata": {},
   "outputs": [],
   "source": [
    "dataset_list = [a_dataset_keys[0],a_dataset_keys[-1]]"
   ]
  },
  {
   "cell_type": "code",
   "execution_count": 14,
   "metadata": {},
   "outputs": [],
   "source": [
    "for data in dataset_list:\n",
    "    data_face = f[data]\n",
    "data_face_arr = np.asarray(data_face)\n",
    "\n",
    "for data in a_dataset_keys[:1]:\n",
    "    data_i = f[data]\n",
    "data_i_arr = np.asarray(data_i)"
   ]
  },
  {
   "cell_type": "code",
   "execution_count": 65,
   "metadata": {},
   "outputs": [
    {
     "data": {
      "text/plain": [
       "True"
      ]
     },
     "execution_count": 65,
     "metadata": {},
     "output_type": "execute_result"
    }
   ],
   "source": [
    "o3d_mesh = o3d.geometry.TriangleMesh()\n",
    "o3d_mesh.vertices = o3d.utility.Vector3dVector(data_i_arr[:,:,0]) # verify what is the name of the attribute for vertices in data dictionary. It should be vertices as given in load method in MeshField class.\n",
    "o3d_mesh.triangles = o3d.utility.Vector3iVector(data_face_arr)\n",
    "o3d.io.write_triangle_mesh(\"registered_dfaust.ply\",o3d_mesh)"
   ]
  },
  {
   "cell_type": "code",
   "execution_count": null,
   "metadata": {},
   "outputs": [],
   "source": []
  },
  {
   "cell_type": "markdown",
   "metadata": {},
   "source": [
    "## Custom dataset of CaDeX"
   ]
  },
  {
   "cell_type": "code",
   "execution_count": 1,
   "metadata": {},
   "outputs": [],
   "source": [
    "import numpy as np\n",
    "import os\n",
    "import random\n",
    "import dataset.oflow_dataset as oflow_dataset\n",
    "from torch.utils import data\n",
    "from torch.utils.data import DataLoader"
   ]
  },
  {
   "cell_type": "markdown",
   "metadata": {},
   "source": [
    "Write a class for custom dataset "
   ]
  },
  {
   "cell_type": "code",
   "execution_count": 2,
   "metadata": {},
   "outputs": [],
   "source": [
    "class HumansDataset(data.Dataset):\n",
    "    def __init__(\n",
    "        self,\n",
    "        dataset_folder,\n",
    "        fields,\n",
    "        split=None,\n",
    "        categories=None,\n",
    "        no_except=True,\n",
    "        transform=None,\n",
    "        length_sequence=2,\n",
    "        n_files_per_sequence=-1,\n",
    "        offset_sequence=0,\n",
    "        ex_folder_name=\"pcl_seq\",\n",
    "        **kwargs\n",
    "    ):\n",
    "        # Attributes\n",
    "        self.dataset_folder = dataset_folder\n",
    "        self.fields = fields\n",
    "        self.no_except = no_except\n",
    "        self.transform = transform\n",
    "        self.length_sequence = length_sequence\n",
    "        self.n_files_per_sequence = n_files_per_sequence\n",
    "        self.offset_sequence = offset_sequence\n",
    "        self.ex_folder_name = ex_folder_name\n",
    "       \n",
    "        # Read metadata file\n",
    "        metadata_file = os.path.join(dataset_folder, \"metadata.yaml\")\n",
    "\n",
    "        \n",
    "        self.metadata = {c: {\"id\": c, \"name\": \"n/a\"} for c in categories}\n",
    "\n",
    "        # Set index\n",
    "        for c_idx, c in enumerate(categories):\n",
    "            self.metadata[c][\"idx\"] = c_idx #only one category: D-FAUST. contains single ID only\n",
    "\n",
    "        # Get all models\n",
    "        self.models = []\n",
    "        for c_idx, c in enumerate(categories):\n",
    "            subpath = os.path.join(dataset_folder, c) #subpath: /usr/stud/srinivaa/code/new_CaDeX/CaDeX/resource/data/Humans/D-FAUST\n",
    "           \n",
    "            if split is not None and os.path.exists(os.path.join(subpath, split + \".lst\")):\n",
    "                split_file = os.path.join(subpath, split + \".lst\") # for train mode: /usr/stud/srinivaa/code/new_CaDeX/CaDeX/resource/data/Humans/D-FAUST/train.lst\n",
    "                with open(split_file, \"r\") as f:\n",
    "                    models_c = f.read().split(\"\\n\") # All files in train.lst for training mode\n",
    "           \n",
    "            models_c = list(filter(lambda x: len(x) > 0, models_c))\n",
    "            models_len = self.get_models_seq_len(subpath, models_c) # gives the total number .npz files in each model\n",
    "            models_c, start_idx = self.subdivide_into_sequences(models_c, models_len)\n",
    "            self.models += [\n",
    "                {\"category\": c, \"model\": m, \"start_idx\": start_idx[i]}\n",
    "                for i, m in enumerate(models_c)\n",
    "            ]\n",
    "        \n",
    "       \n",
    "\n",
    "    def __len__(self):\n",
    "       return len(self.models)\n",
    "    \n",
    "    \n",
    "    def __getitem__(self,idx):\n",
    "        category = self.models[idx][\"category\"]\n",
    "        model = self.models[idx][\"model\"]\n",
    "        start_idx = self.models[idx][\"start_idx\"]\n",
    "        c_idx = self.metadata[category][\"idx\"]\n",
    "\n",
    "        model_path = os.path.join(self.dataset_folder, category, model)\n",
    "\n",
    "        data = {}\n",
    "        # files = os.listdir(os.path.join(model_path,\"mesh_registered\"))\n",
    "        # folder_length = np.arange(len(files))\n",
    "        # file_indexes = random.sample(list(folder_length),k=17)\n",
    "        \n",
    "        for field_name, field in self.fields.items():\n",
    "             \n",
    "            field_data = field.load(model_path, idx, c_idx, start_idx)\n",
    " \n",
    "            if isinstance(field_data, dict):\n",
    "                for k, v in field_data.items():\n",
    "                    if k is None:\n",
    "                        data[field_name] = v\n",
    "                    else:\n",
    "                        data[\"%s.%s\" % (field_name, k)] = v\n",
    "            else:\n",
    "                data[field_name] = field_data\n",
    "           \n",
    "\n",
    "        if self.transform is not None:\n",
    "            data = self.transform(data)\n",
    "\n",
    "        \n",
    "        \n",
    "        return data\n",
    "\n",
    "    def get_models_seq_len(self, subpath, models):\n",
    "        \"\"\"Returns the sequence length of a specific model.\n",
    "\n",
    "        This is a little \"hacky\" as we assume the existence of the folder\n",
    "        self.ex_folder_name. However, in our case this is always given.\n",
    "\n",
    "        Args:\n",
    "            subpath (str): subpath of model category\n",
    "            models (list): list of model names\n",
    "        \"\"\"\n",
    "        ex_folder_name = self.ex_folder_name\n",
    "        models_seq_len = []\n",
    "        for m in models:\n",
    "            _sublist = [\n",
    "                f for f in os.listdir(os.path.join(subpath, m, ex_folder_name))# if \"_\" not in f\n",
    "            ]\n",
    "            models_seq_len.append(len(_sublist))\n",
    "        # models_seq_len = [len(os.listdir(os.path.join(subpath, m, ex_folder_name))) for m in models]\n",
    "        return models_seq_len\n",
    "\n",
    "    def subdivide_into_sequences(self, models, models_len):\n",
    "        \"\"\"Subdivides model sequence into smaller sequences.\n",
    "\n",
    "        Args:\n",
    "            models (list): list of model names\n",
    "            models_len (list): list of lengths of model sequences\n",
    "        \"\"\"\n",
    "        length_sequence = self.length_sequence\n",
    "        n_files_per_sequence = self.n_files_per_sequence\n",
    "        offset_sequence = self.offset_sequence\n",
    "\n",
    "        # Remove files before offset\n",
    "        models_len = [l - offset_sequence for l in models_len]\n",
    "\n",
    "        # Reduce to maximum number of files that should be considered\n",
    "        if n_files_per_sequence > 0:\n",
    "            models_len = [min(n_files_per_sequence, l) for l in models_len]\n",
    "\n",
    "        models_out = []\n",
    "        start_idx = []\n",
    "        for idx, model in enumerate(models):\n",
    "            for n in range(0, models_len[idx] - length_sequence + 1):\n",
    "                models_out.append(model)\n",
    "                start_idx.append(n + offset_sequence)\n",
    "\n",
    "        return models_out, start_idx   \n",
    "    "
   ]
  },
  {
   "cell_type": "code",
   "execution_count": 3,
   "metadata": {},
   "outputs": [],
   "source": [
    "def get_transforms():\n",
    "    \"\"\"Returns transform objects.\n",
    "\n",
    "    Args:\n",
    "        cfg (yaml config): yaml config object\n",
    "    \"\"\"\n",
    "    n_pcl = 100\n",
    "    n_pt = 512\n",
    "    n_pt_eval = 10000\n",
    "\n",
    "    transf_pt = oflow_dataset.SubsamplePoints(n_pt)\n",
    "    transf_pt_val = oflow_dataset.SubsamplePointsSeq(n_pt_eval, random=False)\n",
    "    transf_pcl_val = oflow_dataset.SubsamplePointcloudSeq(n_pt_eval, random=False)\n",
    "    transf_pcl = oflow_dataset.SubsamplePointcloudSeq(n_pcl, connected_samples=True)\n",
    "\n",
    "    return transf_pt, transf_pt_val, transf_pcl, transf_pcl_val"
   ]
  },
  {
   "cell_type": "code",
   "execution_count": 4,
   "metadata": {},
   "outputs": [],
   "source": [
    "def get_data_fields(mode):\n",
    "    \"\"\"Returns data fields.\n",
    "\n",
    "    Args:\n",
    "        mode (str): mode (train|val|test)\n",
    "        cfg (yaml config): yaml config object\n",
    "    \"\"\"\n",
    "    fields = {}\n",
    "    seq_len_train = 2\n",
    "   \n",
    "    seq_len_val = seq_len_train\n",
    "    p_folder = \"points_seq\" # points_seq: contains information regarding the points and their corresponding occupancy values\n",
    "    pcl_folder = \"pcl_seq\" #pcl_seq : contains information regarding the points, scale and loc\n",
    "    mesh_folder = \"mesh_registered\" #mesh_seq: non-existent. Utilize this to have a file containing points and faces for each model.\n",
    "    generate_interpolate = False #False\n",
    "    unpackbits = False # True\n",
    "    \n",
    "    training_all = False\n",
    "    \n",
    "    n_training_frames = 2\n",
    "\n",
    "    # Transformation\n",
    "    transf_pt, transf_pt_val, transf_pcl, transf_pcl_val = get_transforms()\n",
    "\n",
    "    # Fields\n",
    "    pts_iou_field = oflow_dataset.PointsSubseqField\n",
    "    pts_corr_field = oflow_dataset.PointCloudSubseqField\n",
    "\n",
    "    # MeshSubseqField can be used to load mesh fields\n",
    "\n",
    "  \n",
    "    not_choose_last = False\n",
    "    training_multi_files = False\n",
    "    \n",
    "    loss_recon = \"false\"\n",
    "    loss_corr = \"true\"\n",
    "\n",
    "    if mode == \"train\":\n",
    "        if loss_recon:\n",
    "            if training_all:\n",
    "                fields[\"points\"] = pts_iou_field(\n",
    "                    p_folder,\n",
    "                    transform=transf_pt,\n",
    "                    all_steps=True,\n",
    "                    seq_len=seq_len_train,\n",
    "                    unpackbits=unpackbits,\n",
    "                    use_multi_files=training_multi_files,\n",
    "                )\n",
    "            else:\n",
    "                fields[\"points\"] = pts_iou_field(\n",
    "                    p_folder,\n",
    "                    sample_nframes=n_training_frames,\n",
    "                    transform=transf_pt,\n",
    "                    seq_len=seq_len_train,\n",
    "                    fixed_time_step=0,\n",
    "                    unpackbits=unpackbits,\n",
    "                    use_multi_files=training_multi_files)\n",
    "                \n",
    "            # fields[\"points_t\"] = pts_iou_field(\n",
    "            #     p_folder,\n",
    "            #     transform=transf_pt,\n",
    "            #     seq_len=seq_len_train,\n",
    "            #     unpackbits=unpackbits,\n",
    "            #     not_choose_last=not_choose_last,\n",
    "            #     use_multi_files=training_multi_files,\n",
    "            # )\n",
    "\n",
    "\n",
    "            fields[\"mesh\"] = oflow_dataset.MeshField(\n",
    "            mesh_folder, seq_len=seq_len_val)\n",
    "\n",
    "    # only training can be boost by multi-files\n",
    "    # modify here, if not train, val should also load the same as the test\n",
    "    else:\n",
    "        # fields[\"points\"] = pts_iou_field(\n",
    "        #     p_folder,\n",
    "        #     transform=transf_pt_val,\n",
    "        #     all_steps=True,\n",
    "        #     seq_len=seq_len_val,\n",
    "        #     unpackbits=unpackbits,\n",
    "        # )\n",
    "        fields[\n",
    "            \"points_mesh\"\n",
    "        ] = pts_corr_field(  # ? this if for correspondence? Checked, this is for chamfer distance, make sure that because here we use tranforms, teh pts in config file must be 100000\n",
    "            pcl_folder, transform=transf_pcl_val, seq_len=seq_len_val\n",
    "        )\n",
    "    # Connectivity Loss:\n",
    "    if loss_corr:\n",
    "        fields[\"pointcloud\"] = oflow_dataset.PointCloudField(mesh_folder, seq_len=seq_len_val)\n",
    "    if mode == \"test\" and generate_interpolate:\n",
    "        fields[\"mesh\"] = oflow_dataset.MeshSubseqField(\n",
    "            mesh_folder, seq_len=seq_len_val, only_end_points=True\n",
    "        )\n",
    "    #fields[\"oflow_idx\"] = oflow_dataset.IndexField()\n",
    "    return fields"
   ]
  },
  {
   "cell_type": "code",
   "execution_count": 5,
   "metadata": {},
   "outputs": [],
   "source": [
    "def get_inputs_field(mode):\n",
    "    \n",
    "    input_type = \"mesh_seq\"\n",
    "    seq_len_train = 2\n",
    "    seq_len_val = seq_len_train\n",
    "    \n",
    "    seq_len = seq_len_train\n",
    "    \n",
    "\n",
    "    if input_type is None:\n",
    "        inputs_field = None\n",
    "    elif input_type == \"img_seq\":\n",
    "        if mode == \"train\" and cfg[\"dataset\"][\"oflow_config\"][\"img_augment\"]:\n",
    "            resize_op = transforms.RandomResizedCrop(\n",
    "                cfg[\"dataset\"][\"oflow_config\"][\"img_size\"], (0.75, 1.0), (1.0, 1.0)\n",
    "            )\n",
    "        else:\n",
    "            resize_op = transforms.Resize((cfg[\"dataset\"][\"oflow_config\"][\"img_size\"]))\n",
    "\n",
    "        transform = transforms.Compose(\n",
    "            [\n",
    "                resize_op,\n",
    "                transforms.ToTensor(),\n",
    "            ]\n",
    "        )\n",
    "\n",
    "        if mode == \"train\":\n",
    "            random_view = True\n",
    "        else:\n",
    "            random_view = False\n",
    "\n",
    "        inputs_field = oflow_dataset.ImageSubseqField(\n",
    "            cfg[\"dataset\"][\"oflow_config\"][\"img_seq_folder\"], transform, random_view=random_view\n",
    "        )\n",
    "    elif input_type == \"pcl_seq\":\n",
    "        connected_samples = cfg[\"dataset\"][\"oflow_config\"][\"input_pointcloud_corresponding\"]\n",
    "        transform = transforms.Compose(\n",
    "            [\n",
    "                oflow_dataset.SubsamplePointcloudSeq(\n",
    "                    cfg[\"dataset\"][\"oflow_config\"][\"input_pointcloud_n\"],\n",
    "                    connected_samples=connected_samples,\n",
    "                ),\n",
    "                oflow_dataset.PointcloudNoise(\n",
    "                    cfg[\"dataset\"][\"oflow_config\"][\"input_pointcloud_noise\"]\n",
    "                ),\n",
    "            ]\n",
    "        )\n",
    "        training_multi_files = False\n",
    "        if \"training_multi_files\" in cfg[\"dataset\"][\"oflow_config\"]:\n",
    "            if cfg[\"dataset\"][\"oflow_config\"][\"training_multi_files\"] and mode == \"train\":\n",
    "                training_multi_files = True\n",
    "                logging.info(\n",
    "                    \"Oflow D-FAUST PCL Field use multi files to speed up disk performation\"\n",
    "                )\n",
    "\n",
    "        inputs_field = oflow_dataset.PointCloudSubseqField(\n",
    "            cfg[\"dataset\"][\"oflow_config\"][\"pointcloud_seq_folder\"],\n",
    "            transform,\n",
    "            seq_len=seq_len,\n",
    "            use_multi_files=training_multi_files,\n",
    "        )\n",
    "    #TODO : get inputs fields for mesh sequence\n",
    "    elif input_type == \"mesh_seq\":\n",
    "        \n",
    "        # transform = transforms.Compose(\n",
    "        #     [\n",
    "        #         #oflow_dataset.MeshNoise(),\n",
    "        #         #oflow_dataset.DownSampleMesh(N = 512)\n",
    "        #     ]\n",
    "        # )\n",
    "\n",
    "        inputs_field = oflow_dataset.MeshField(\n",
    "            \"mesh_registered\"\n",
    "        )\n",
    "    elif input_type == \"end_pointclouds\":\n",
    "        transform = oflow_dataset.SubsamplePointcloudSeq(\n",
    "            cfg[\"dataset\"][\"oflow_config\"][\"input_pointcloud_n\"],\n",
    "            connected_samples=cfg[\"dataset\"][\"oflow_config\"][\"input_pointcloud_corresponding\"],\n",
    "        )\n",
    "\n",
    "        inputs_field = oflow_dataset.PointCloudSubseqField(\n",
    "            cfg[\"dataset\"][\"oflow_config\"][\"pointcloud_seq_folder\"],\n",
    "            only_end_points=True,\n",
    "            seq_len=seq_len,\n",
    "            transform=transform,\n",
    "        )\n",
    "    elif input_type == \"idx\":\n",
    "        inputs_field = oflow_dataset.IndexField()\n",
    "    else:\n",
    "        raise ValueError(\"Invalid input type (%s)\" % input_type)\n",
    "    return inputs_field"
   ]
  },
  {
   "cell_type": "code",
   "execution_count": 6,
   "metadata": {},
   "outputs": [],
   "source": [
    "fields = get_data_fields(\"train\")\n",
    "inputs_field = get_inputs_field(\"train\")\n",
    "\n",
    "if inputs_field is not None:\n",
    "    fields[\"inputs\"] = inputs_field"
   ]
  },
  {
   "cell_type": "code",
   "execution_count": 7,
   "metadata": {},
   "outputs": [],
   "source": [
    "dataset_folder = \"/usr/stud/srinivaa/storage/slurm/data/animals\"\n",
    "categories = [\"SMAL\"]"
   ]
  },
  {
   "cell_type": "markdown",
   "metadata": {},
   "source": [
    "Instantiate a custom dataset object"
   ]
  },
  {
   "cell_type": "code",
   "execution_count": 8,
   "metadata": {},
   "outputs": [],
   "source": [
    "dataset = HumansDataset(\n",
    "        dataset_folder,\n",
    "        fields,\n",
    "        split=\"train\",\n",
    "        categories=categories,\n",
    "        length_sequence=2,\n",
    "        n_files_per_sequence=-1,\n",
    "        offset_sequence=1,\n",
    "        ex_folder_name=\"mesh_registered\",\n",
    "    )"
   ]
  },
  {
   "cell_type": "code",
   "execution_count": 9,
   "metadata": {},
   "outputs": [
    {
     "name": "stdout",
     "output_type": "stream",
     "text": [
      "<numpy.lib.npyio.NpzFile object at 0x7f9a5372df10>\n",
      "['/usr/stud/srinivaa/storage/slurm/data/animals/SMAL/big_cats/points_seq/450-122410176-lions-natural-habitat.npz', '/usr/stud/srinivaa/storage/slurm/data/animals/SMAL/big_cats/points_seq/MaleLion800.npz']\n"
     ]
    },
    {
     "data": {
      "text/plain": [
       "{'points': array([[[ 0.6439394 , -0.11363637, -0.6136364 ],\n",
       "         [-0.5984849 ,  0.7348485 , -0.5984849 ],\n",
       "         [-0.70454544,  0.75      , -0.31060606],\n",
       "         ...,\n",
       "         [-0.03787879,  0.46212122,  0.5530303 ],\n",
       "         [ 0.11363637, -0.0530303 ,  0.37121212],\n",
       "         [-0.6439394 , -0.37121212, -0.6287879 ]],\n",
       " \n",
       "        [[-0.20454545,  0.02272727, -0.5378788 ],\n",
       "         [ 0.02272727, -0.70454544,  0.08333334],\n",
       "         [-0.6439394 ,  0.3409091 , -0.21969697],\n",
       "         ...,\n",
       "         [ 0.68939394, -0.06818182,  0.68939394],\n",
       "         [-0.5833333 ,  0.09848485, -0.38636363],\n",
       "         [ 0.20454545,  0.41666666,  0.12878788]]], dtype=float32),\n",
       " 'points.occ': array([[[0.],\n",
       "         [0.],\n",
       "         [0.],\n",
       "         ...,\n",
       "         [0.],\n",
       "         [0.],\n",
       "         [0.]],\n",
       " \n",
       "        [[0.],\n",
       "         [0.],\n",
       "         [0.],\n",
       "         ...,\n",
       "         [0.],\n",
       "         [0.],\n",
       "         [0.]]], dtype=float32),\n",
       " 'points.time': array([0., 1.], dtype=float32),\n",
       " 'mesh.vertices': array([[[0.22017938, 0.60612228, 0.86160994],\n",
       "         [0.81484325, 0.00432456, 0.22119202],\n",
       "         [0.52727484, 0.5952585 , 0.53536838],\n",
       "         ...,\n",
       "         [0.65877382, 0.89387793, 0.23732539],\n",
       "         [0.65430817, 0.89981748, 0.22950451],\n",
       "         [0.65776826, 0.90866794, 0.24090296]],\n",
       " \n",
       "        [[0.7761216 , 0.60285195, 0.2655102 ],\n",
       "         [0.09805461, 0.11646505, 0.26018782],\n",
       "         [0.36917138, 0.44441597, 0.53842274],\n",
       "         ...,\n",
       "         [0.10856783, 0.72343541, 0.80035557],\n",
       "         [0.11248571, 0.70310183, 0.81334365],\n",
       "         [0.11306488, 0.71348712, 0.79360802]]]),\n",
       " 'mesh.triangles': array([[[1796, 1797,   33],\n",
       "         [1796, 2012, 1797],\n",
       "         [  33,   34, 1796],\n",
       "         ...,\n",
       "         [3057, 3047, 3055],\n",
       "         [1099, 1084, 1083],\n",
       "         [3057, 3041, 3042]],\n",
       " \n",
       "        [[1796, 1797,   33],\n",
       "         [1796, 2012, 1797],\n",
       "         [  33,   34, 1796],\n",
       "         ...,\n",
       "         [3057, 3047, 3055],\n",
       "         [1099, 1084, 1083],\n",
       "         [3057, 3041, 3042]]], dtype=int32),\n",
       " 'mesh.time': array([0., 1.], dtype=float32),\n",
       " 'pointcloud.vertices': array([[[0.22017938, 0.60612228, 0.86160994],\n",
       "         [0.81484325, 0.00432456, 0.22119202],\n",
       "         [0.52727484, 0.5952585 , 0.53536838],\n",
       "         ...,\n",
       "         [0.65877382, 0.89387793, 0.23732539],\n",
       "         [0.65430817, 0.89981748, 0.22950451],\n",
       "         [0.65776826, 0.90866794, 0.24090296]],\n",
       " \n",
       "        [[0.7761216 , 0.60285195, 0.2655102 ],\n",
       "         [0.09805461, 0.11646505, 0.26018782],\n",
       "         [0.36917138, 0.44441597, 0.53842274],\n",
       "         ...,\n",
       "         [0.10856783, 0.72343541, 0.80035557],\n",
       "         [0.11248571, 0.70310183, 0.81334365],\n",
       "         [0.11306488, 0.71348712, 0.79360802]]]),\n",
       " 'pointcloud.time': array([0., 1.], dtype=float32),\n",
       " 'inputs.vertices': array([[[0.22017938, 0.60612228, 0.86160994],\n",
       "         [0.81484325, 0.00432456, 0.22119202],\n",
       "         [0.52727484, 0.5952585 , 0.53536838],\n",
       "         ...,\n",
       "         [0.65877382, 0.89387793, 0.23732539],\n",
       "         [0.65430817, 0.89981748, 0.22950451],\n",
       "         [0.65776826, 0.90866794, 0.24090296]],\n",
       " \n",
       "        [[0.7761216 , 0.60285195, 0.2655102 ],\n",
       "         [0.09805461, 0.11646505, 0.26018782],\n",
       "         [0.36917138, 0.44441597, 0.53842274],\n",
       "         ...,\n",
       "         [0.10856783, 0.72343541, 0.80035557],\n",
       "         [0.11248571, 0.70310183, 0.81334365],\n",
       "         [0.11306488, 0.71348712, 0.79360802]],\n",
       " \n",
       "        [[0.25523807, 0.82435041, 0.60271455],\n",
       "         [0.9372107 , 0.62528379, 0.58578087],\n",
       "         [0.47379024, 0.70803325, 0.55018113],\n",
       "         ...,\n",
       "         [0.63639943, 0.76070837, 0.06631845],\n",
       "         [0.64743955, 0.7399034 , 0.07076883],\n",
       "         [0.64248411, 0.75592855, 0.07669599]],\n",
       " \n",
       "        ...,\n",
       " \n",
       "        [[0.1693445 , 0.5993957 , 0.80961378],\n",
       "         [0.79649999, 0.03978673, 0.24635879],\n",
       "         [0.57690137, 0.66297492, 0.54430238],\n",
       "         ...,\n",
       "         [0.78031685, 0.88278801, 0.33414537],\n",
       "         [0.77819721, 0.88840915, 0.33017038],\n",
       "         [0.77926544, 0.8936023 , 0.34217925]],\n",
       " \n",
       "        [[0.13476176, 0.55328496, 0.40513226],\n",
       "         [0.8230582 , 0.08584957, 0.70332939],\n",
       "         [0.5502806 , 0.56730046, 0.37473582],\n",
       "         ...,\n",
       "         [0.94941367, 0.78305686, 0.31250886],\n",
       "         [0.94009281, 0.75345165, 0.30668158],\n",
       "         [0.93985704, 0.76593407, 0.32429897]],\n",
       " \n",
       "        [[0.12921163, 0.50350628, 0.78137515],\n",
       "         [0.87848851, 0.06192163, 0.26899225],\n",
       "         [0.59116542, 0.47971316, 0.58839453],\n",
       "         ...,\n",
       "         [0.78465802, 0.80384012, 0.53775594],\n",
       "         [0.78011656, 0.80317114, 0.53115748],\n",
       "         [0.78038501, 0.80416257, 0.54620136]]]),\n",
       " 'inputs.triangles': array([[[1796, 1797,   33],\n",
       "         [1796, 2012, 1797],\n",
       "         [  33,   34, 1796],\n",
       "         ...,\n",
       "         [3057, 3047, 3055],\n",
       "         [1099, 1084, 1083],\n",
       "         [3057, 3041, 3042]],\n",
       " \n",
       "        [[1796, 1797,   33],\n",
       "         [1796, 2012, 1797],\n",
       "         [  33,   34, 1796],\n",
       "         ...,\n",
       "         [3057, 3047, 3055],\n",
       "         [1099, 1084, 1083],\n",
       "         [3057, 3041, 3042]],\n",
       " \n",
       "        [[1796, 1797,   33],\n",
       "         [1796, 2012, 1797],\n",
       "         [  33,   34, 1796],\n",
       "         ...,\n",
       "         [3057, 3047, 3055],\n",
       "         [1099, 1084, 1083],\n",
       "         [3057, 3041, 3042]],\n",
       " \n",
       "        ...,\n",
       " \n",
       "        [[1796, 1797,   33],\n",
       "         [1796, 2012, 1797],\n",
       "         [  33,   34, 1796],\n",
       "         ...,\n",
       "         [3057, 3047, 3055],\n",
       "         [1099, 1084, 1083],\n",
       "         [3057, 3041, 3042]],\n",
       " \n",
       "        [[1796, 1797,   33],\n",
       "         [1796, 2012, 1797],\n",
       "         [  33,   34, 1796],\n",
       "         ...,\n",
       "         [3057, 3047, 3055],\n",
       "         [1099, 1084, 1083],\n",
       "         [3057, 3041, 3042]],\n",
       " \n",
       "        [[1796, 1797,   33],\n",
       "         [1796, 2012, 1797],\n",
       "         [  33,   34, 1796],\n",
       "         ...,\n",
       "         [3057, 3047, 3055],\n",
       "         [1099, 1084, 1083],\n",
       "         [3057, 3041, 3042]]], dtype=int32),\n",
       " 'inputs.time': array([0.    , 0.0625, 0.125 , 0.1875, 0.25  , 0.3125, 0.375 , 0.4375,\n",
       "        0.5   , 0.5625, 0.625 , 0.6875, 0.75  , 0.8125, 0.875 , 0.9375,\n",
       "        1.    ], dtype=float32)}"
      ]
     },
     "execution_count": 9,
     "metadata": {},
     "output_type": "execute_result"
    }
   ],
   "source": [
    "dataset[1]"
   ]
  },
  {
   "cell_type": "markdown",
   "metadata": {},
   "source": [
    "### Study shape class"
   ]
  },
  {
   "cell_type": "code",
   "execution_count": 12,
   "metadata": {},
   "outputs": [],
   "source": [
    "from core.models.utils_arap.shape_utils import Shape\n",
    "import torch"
   ]
  },
  {
   "cell_type": "code",
   "execution_count": 13,
   "metadata": {},
   "outputs": [],
   "source": [
    "shape_1 = Shape(vert=torch.from_numpy(dataset[1]['mesh.vertices']),triv=torch.from_numpy(dataset[1]['mesh.triangles']))"
   ]
  },
  {
   "cell_type": "markdown",
   "metadata": {},
   "source": [
    "### Convert .npz file into .ply file"
   ]
  },
  {
   "cell_type": "code",
   "execution_count": 5,
   "metadata": {},
   "outputs": [],
   "source": [
    "# activate cadex_exp venv\n",
    "import open3d as o3d\n",
    "import numpy as np"
   ]
  },
  {
   "cell_type": "code",
   "execution_count": 23,
   "metadata": {},
   "outputs": [
    {
     "data": {
      "text/plain": [
       "True"
      ]
     },
     "execution_count": 23,
     "metadata": {},
     "output_type": "execute_result"
    }
   ],
   "source": [
    "vertices_path = \"//usr/stud/srinivaa/code/new_CaDeX/CaDeX/cdc_1.npz\"\n",
    "data_vertices = np.load(file_path)\n",
    "#data_faces = np.load(\"/usr/data/cvpr_shared/marvin/Data/CaDeX/data/Humans/D-FAUST/50002_chicken_wings/mesh_registred/00000000.npz\")[\"triangles\"]\n",
    "pcd = o3d.geometry.PointCloud()\n",
    "pcd.points = o3d.utility.Vector3dVector(np.vstack(data_vertices['points']))\n",
    "o3d.io.write_point_cloud(\"cdc_1.ply\", pcd)\n",
    "\n",
    "# o3d_mesh = o3d.geometry.TriangleMesh()\n",
    "# o3d_mesh.vertices = o3d.utility.Vector3dVector(np.vstack(data_vertices[\"points\"])) # verify what is the name of the attribute for vertices in data dictionary. It should be vertices as given in load method in MeshField class.\n",
    "# o3d_mesh.triangles = o3d.utility.Vector3iVector(data_faces)\n",
    "# o3d.io.write_triangle_mesh(\"cdc_0_mesh.ply\",o3d_mesh)"
   ]
  },
  {
   "cell_type": "code",
   "execution_count": 83,
   "metadata": {},
   "outputs": [],
   "source": [
    "cdc_vertices = torch.from_numpy(np.load(\"/usr/stud/srinivaa/code/new_CaDeX/CaDeX/external_results/cdc.npz\")['points'][0][0])\n",
    "query_faces = torch.from_numpy(np.load(\"/usr/stud/srinivaa/code/new_CaDeX/CaDeX/external_results/cdc.npz\")['faces'][0][0])\n",
    "query_vertices = torch.from_numpy(np.load(\"/usr/stud/srinivaa/code/new_CaDeX/CaDeX/external_results/query.npz\")['points'][0][0])"
   ]
  },
  {
   "cell_type": "code",
   "execution_count": 1,
   "metadata": {},
   "outputs": [],
   "source": [
    "import numpy as np\n",
    "\n",
    "cdc_vertices = np.load(\"/usr/stud/srinivaa/code/new_CaDeX/CaDeX/external_results/cdc.npz\")['points']\n",
    "cdc_faces = np.load(\"/usr/stud/srinivaa/code/new_CaDeX/CaDeX/external_results/cdc.npz\")['faces']"
   ]
  },
  {
   "cell_type": "markdown",
   "metadata": {},
   "source": [
    "### Study of MDS loss"
   ]
  },
  {
   "cell_type": "code",
   "execution_count": 12,
   "metadata": {},
   "outputs": [],
   "source": [
    "import numpy as np\n",
    "import torch\n",
    "from numba import jit\n",
    "import time"
   ]
  },
  {
   "cell_type": "code",
   "execution_count": 13,
   "metadata": {},
   "outputs": [],
   "source": [
    "cdc_vertices = torch.from_numpy(np.load(\"/usr/stud/srinivaa/code/new_CaDeX/CaDeX/external_results/cdc.npz\")[\"points\"])\n",
    "query_vertices = torch.from_numpy(np.load(\"/usr/stud/srinivaa/code/new_CaDeX/CaDeX/external_results/query.npz\")[\"points\"])\n",
    "faces = torch.from_numpy(np.load(\"/usr/stud/srinivaa/code/new_CaDeX/CaDeX/external_results/cdc.npz\")[\"faces\"])"
   ]
  },
  {
   "cell_type": "code",
   "execution_count": 19,
   "metadata": {},
   "outputs": [],
   "source": [
    "def my_zeros(shape):\n",
    "    return torch.zeros(shape,dtype=torch.float32)\n",
    "\n",
    "\n",
    "def my_ones(shape):\n",
    "    return torch.ones(shape, dtype=torch.float32)\n",
    "\n",
    "def arap_exact(vert_diff_cdc, vert_diff_query, neigh, n_vert):\n",
    "    S_neigh = torch.bmm(vert_diff_cdc.unsqueeze(2),vert_diff_query.unsqueeze(1))\n",
    "   \n",
    "    S = my_zeros([n_vert, 3, 3])\n",
    "\n",
    "    S = torch.index_add(S, 0, neigh[:, 0], S_neigh)\n",
    "    S = torch.index_add(S, 0, neigh[:, 1], S_neigh)\n",
    "    \n",
    "    # Kabsch algorithm\n",
    "    U, _, V = torch.svd(S, compute_uv=True)\n",
    "    \n",
    "    R = torch.bmm(U, V.transpose(1, 2))\n",
    "    \n",
    "    Sigma = my_ones((R.shape[0], 1, 3))\n",
    "    Sigma[:, :, 2] = torch.det(R).unsqueeze(1)\n",
    "\n",
    "    R = torch.bmm(U * Sigma, V.transpose(1, 2))\n",
    "    \n",
    "    return R\n",
    "\n",
    "def arap_energy_exact(vert_cdc, vert_query, neigh, lambda_reg_len=1e-6):\n",
    "    n_vert = vert_cdc.shape[0]\n",
    "    \n",
    "    vert_diff_cdc = torch.sub(vert_cdc[neigh[:,0]],vert_cdc[neigh[:,1]])\n",
    "    vert_diff_query = torch.sub(vert_query[neigh[:,0]],vert_query[neigh[:,1]])\n",
    "\n",
    "    # Beginning of exact minimization scheme\n",
    "    # Assuming deformed coordinates (cdc coords) are correct, find value of rotation matrix that ARAP\n",
    "    R_t = arap_exact(vert_diff_cdc, vert_diff_query, neigh, n_vert)\n",
    "    \n",
    "    R_neigh_t = 0.5 * (\n",
    "        torch.index_select(R_t, 0, neigh[:, 0])\n",
    "        + torch.index_select(R_t, 0, neigh[:, 1])\n",
    "    )\n",
    "\n",
    "    # Assuming R_neigh_t is correct, obtain the deformed coordinates such that they are ARAP deformed\n",
    "    vert_diff_query_rot = torch.bmm(R_neigh_t, vert_diff_query.unsqueeze(2)).squeeze() # obtain the new coordinates after deforming the shaper as rigid as possible \n",
    "    acc_t_neigh = vert_diff_cdc - vert_diff_query_rot # Minimize the difference between deformed coords and original coords\n",
    "\n",
    "    E_arap = acc_t_neigh.norm() ** 2 + lambda_reg_len * (vert_cdc - vert_query).norm() ** 2\n",
    "    E_arap = 0.1 * E_arap\n",
    "  \n",
    "    return E_arap\n"
   ]
  },
  {
   "cell_type": "code",
   "execution_count": 20,
   "metadata": {},
   "outputs": [],
   "source": [
    "def get_neigh(triv):\n",
    "    neigh = torch.cat(\n",
    "        (triv[:, [0, 1]], triv[:, [0, 2]], triv[:, [1, 2]]), 0\n",
    "    )\n",
    "\n",
    "    return neigh.long()"
   ]
  },
  {
   "cell_type": "code",
   "execution_count": 21,
   "metadata": {},
   "outputs": [],
   "source": [
    "def _loss_deform(query_vertices, query_triangles, canonical):\n",
    "    E = 0\n",
    "    neighbours = get_neigh(query_triangles[0][0])\n",
    "    \n",
    "    for i in range(canonical.shape[0]):\n",
    "        canonical_vert_batch = canonical[i] #Single batch of cdc coordinates\n",
    "        query_vert_batch_i = query_vertices[i] # Single batch of query space coords\n",
    "        \n",
    "\n",
    "        #E_arap,E_mds = self._loss_deform_single(query_vert_batch_i,canonical_vert_batch,neighbours) # Send in batch wise\n",
    "        E_arap = _loss_deform_single(query_vert_batch_i,canonical_vert_batch,neighbours)\n",
    "        E = E + E_arap\n",
    "    return E"
   ]
  },
  {
   "cell_type": "code",
   "execution_count": 22,
   "metadata": {},
   "outputs": [],
   "source": [
    "def _loss_deform_single(query_vertices, canonical_vertices, neighbours):\n",
    "    E_deform_list = []\n",
    "\n",
    "    for i in range(query_vertices.shape[0]):\n",
    "        \n",
    "        torch.set_num_threads(i + 1)\n",
    "        E_y = arap_energy_exact(\n",
    "            query_vertices[i], canonical_vertices[i],neighbours\n",
    "        )\n",
    "\n",
    "        \n",
    "        if torch.isnan(E_y) ==  False:\n",
    "            E_deform_list.append(E_y)\n",
    "\n",
    "    E_deform_tensor = torch.tensor(E_deform_list)\n",
    "    E_deform_mean = torch.mean(E_deform_tensor)\n",
    "\n",
    "    return E_deform_mean"
   ]
  },
  {
   "cell_type": "code",
   "execution_count": 23,
   "metadata": {},
   "outputs": [
    {
     "name": "stdout",
     "output_type": "stream",
     "text": [
      "Time taken to execute deformation loss(in seconds): 4.660088300704956\n"
     ]
    }
   ],
   "source": [
    "start = time.time()\n",
    "deform_loss_i = _loss_deform(query_vertices.cpu(),faces.cpu(),cdc_vertices.cpu())\n",
    "print(\"Time taken to execute deformation loss(in seconds):\", time.time() - start)"
   ]
  },
  {
   "cell_type": "code",
   "execution_count": 19,
   "metadata": {},
   "outputs": [
    {
     "data": {
      "text/plain": [
       "False"
      ]
     },
     "execution_count": 19,
     "metadata": {},
     "output_type": "execute_result"
    }
   ],
   "source": [
    "faces.cpu().is_cuda"
   ]
  },
  {
   "cell_type": "markdown",
   "metadata": {},
   "source": [
    "## Study of correspondence loss"
   ]
  },
  {
   "cell_type": "code",
   "execution_count": 1,
   "metadata": {},
   "outputs": [],
   "source": [
    "import numpy as np\n",
    "import torch\n",
    "from init.config_utils import load_config\n",
    "from core.net_bank.lpdc_encoder import SpatioTemporalResnetPointnetCDC\n",
    "from core.net_bank.oflow_point import ResnetPointnet\n",
    "from core.net_bank.oflow_decoder import DecoderCBatchNorm\n",
    "from torch import distributions as dist"
   ]
  },
  {
   "cell_type": "code",
   "execution_count": 2,
   "metadata": {},
   "outputs": [],
   "source": [
    "cfg = load_config(\"/usr/stud/srinivaa/code/new_CaDeX/CaDeX/configs/dfaust/training/dfaust_w_st.yaml\", default_path=\"/usr/stud/srinivaa/code/new_CaDeX/CaDeX/init/default.yaml\")"
   ]
  },
  {
   "cell_type": "code",
   "execution_count": 3,
   "metadata": {},
   "outputs": [],
   "source": [
    "seq_pc = torch.from_numpy(np.load(\"/usr/stud/srinivaa/code/new_CaDeX/CaDeX/external_results/query.npz\")[\"points\"])\n",
    "uncompressed_cdc = torch.from_numpy(np.load(\"/usr/stud/srinivaa/code/new_CaDeX/CaDeX/external_results/cdc.npz\")[\"points\"])\n",
    "cdc = torch.sigmoid(uncompressed_cdc) - 0.5"
   ]
  },
  {
   "cell_type": "code",
   "execution_count": 4,
   "metadata": {},
   "outputs": [],
   "source": [
    "homeomorphism_encoder = SpatioTemporalResnetPointnetCDC(\n",
    "                dim=3,\n",
    "                **cfg[\"model\"][\"homeomorphism_encoder\"],\n",
    "                global_geometry=True,\n",
    "                # * Note, here we still set global_geometry = True, but don't use this c_g\n",
    "            )"
   ]
  },
  {
   "cell_type": "code",
   "execution_count": 5,
   "metadata": {},
   "outputs": [],
   "source": [
    "network_dict = torch.nn.ModuleDict(\n",
    "    {\n",
    "        \"homeomorphism_encoder\" : homeomorphism_encoder,\n",
    "        \"canonical_geometry_encoder\": ResnetPointnet(\n",
    "                    dim=3, **cfg[\"model\"][\"canonical_geometry_encoder\"]\n",
    "                ),\n",
    "        \"canonical_geometry_decoder\": DecoderCBatchNorm(\n",
    "                    dim=3, z_dim=0, **cfg[\"model\"][\"canonical_geometry_decoder\"]\n",
    "                )\n",
    "    }\n",
    ")"
   ]
  },
  {
   "cell_type": "code",
   "execution_count": 6,
   "metadata": {},
   "outputs": [],
   "source": [
    "def decode_by_cdc(observation_c, query):\n",
    "    \"\"\"\n",
    "    The function uses OccNet to reconstruct the canonical shape in canonical deformaton coordinate space.\n",
    "\n",
    "    Args:\n",
    "    observayion_c : The embedding from PointNet in canonical deformation coordinate space\n",
    "    query : The query points in a query position\n",
    "\n",
    "    Returns:\n",
    "    Occupancy probabilities \n",
    "    \"\"\"\n",
    "    B, T, N, _ = query.shape\n",
    "    query = query.reshape(B, -1, 3)\n",
    "    logits = network_dict[\"canonical_geometry_decoder\"](\n",
    "        query, None, observation_c\n",
    "    ).reshape(B, T, N)\n",
    "\n",
    "    \n",
    "    return dist.Bernoulli(logits=logits)"
   ]
  },
  {
   "cell_type": "code",
   "execution_count": 9,
   "metadata": {},
   "outputs": [],
   "source": [
    "pr = decode_by_cdc(observation_c=c_g, query=cdc)\n",
    "occ_hat = pr.probs"
   ]
  },
  {
   "cell_type": "code",
   "execution_count": 11,
   "metadata": {},
   "outputs": [
    {
     "data": {
      "text/plain": [
       "torch.Size([2, 17, 6890])"
      ]
     },
     "execution_count": 11,
     "metadata": {},
     "output_type": "execute_result"
    }
   ],
   "source": [
    "occ_hat.shape"
   ]
  },
  {
   "cell_type": "code",
   "execution_count": 11,
   "metadata": {},
   "outputs": [],
   "source": [
    "_,c_t = network_dict[\"homeomorphism_encoder\"](seq_pc)"
   ]
  },
  {
   "cell_type": "code",
   "execution_count": 7,
   "metadata": {},
   "outputs": [],
   "source": [
    "c_g = network_dict[\"canonical_geometry_encoder\"](uncompressed_cdc.reshape(2, -1, 3))"
   ]
  },
  {
   "cell_type": "code",
   "execution_count": null,
   "metadata": {},
   "outputs": [
    {
     "data": {
      "text/plain": [
       "torch.Size([2, 128])"
      ]
     },
     "execution_count": 32,
     "metadata": {},
     "output_type": "execute_result"
    }
   ],
   "source": [
    "c_g.shape"
   ]
  },
  {
   "cell_type": "code",
   "execution_count": null,
   "metadata": {},
   "outputs": [],
   "source": []
  }
 ],
 "metadata": {
  "kernelspec": {
   "display_name": "Python 3.7.13 ('cadex_1': conda)",
   "language": "python",
   "name": "python3"
  },
  "language_info": {
   "codemirror_mode": {
    "name": "ipython",
    "version": 3
   },
   "file_extension": ".py",
   "mimetype": "text/x-python",
   "name": "python",
   "nbconvert_exporter": "python",
   "pygments_lexer": "ipython3",
   "version": "3.7.13"
  },
  "orig_nbformat": 4,
  "vscode": {
   "interpreter": {
    "hash": "00ecdfb374cb07288fc88678eed1090d022d8c5ada305335ac9b4b12e32ebcc6"
   }
  }
 },
 "nbformat": 4,
 "nbformat_minor": 2
}
